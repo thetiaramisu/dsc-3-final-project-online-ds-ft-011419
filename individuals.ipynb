{
 "cells": [
  {
   "cell_type": "markdown",
   "metadata": {},
   "source": [
    "## Libraries"
   ]
  },
  {
   "cell_type": "code",
   "execution_count": 1,
   "metadata": {},
   "outputs": [],
   "source": [
    "import pandas as pd\n",
    "import numpy as np \n",
    "\n",
    "import matplotlib.pyplot as plt\n",
    "%matplotlib inline\n",
    "import seaborn as sns\n",
    "\n",
    "import copy\n",
    "\n",
    "pd.set_option('display.max_columns', None) # Displays all columns\n",
    "\n",
    "import warnings\n",
    "warnings.filterwarnings('ignore')"
   ]
  },
  {
   "cell_type": "code",
   "execution_count": 2,
   "metadata": {},
   "outputs": [],
   "source": [
    "# Function for previews\n",
    "\n",
    "def view(df,n):\n",
    "    with pd.option_context('display.max_rows',n*2):\n",
    "        display(df)"
   ]
  },
  {
   "cell_type": "markdown",
   "metadata": {},
   "source": [
    "## Individuals in Crashes\n",
    "\n",
    "https://data.ny.gov/Transportation/Motor-Vehicle-Crashes-Individual-Information-Three/ir4y-sesj"
   ]
  },
  {
   "cell_type": "markdown",
   "metadata": {},
   "source": [
    "#### Preview"
   ]
  },
  {
   "cell_type": "code",
   "execution_count": 3,
   "metadata": {},
   "outputs": [
    {
     "data": {
      "text/html": [
       "<div>\n",
       "<style scoped>\n",
       "    .dataframe tbody tr th:only-of-type {\n",
       "        vertical-align: middle;\n",
       "    }\n",
       "\n",
       "    .dataframe tbody tr th {\n",
       "        vertical-align: top;\n",
       "    }\n",
       "\n",
       "    .dataframe thead th {\n",
       "        text-align: right;\n",
       "    }\n",
       "</style>\n",
       "<table border=\"1\" class=\"dataframe\">\n",
       "  <thead>\n",
       "    <tr style=\"text-align: right;\">\n",
       "      <th></th>\n",
       "      <th>Year</th>\n",
       "      <th>Case Individual ID</th>\n",
       "      <th>Case Vehicle ID</th>\n",
       "      <th>Victim Status</th>\n",
       "      <th>Role Type</th>\n",
       "      <th>Seating Position</th>\n",
       "      <th>Ejection</th>\n",
       "      <th>License State Code</th>\n",
       "      <th>Sex</th>\n",
       "      <th>Transported By</th>\n",
       "      <th>Safety Equipment</th>\n",
       "      <th>Injury Descriptor</th>\n",
       "      <th>Injury Location</th>\n",
       "      <th>Injury Severity</th>\n",
       "      <th>Age</th>\n",
       "    </tr>\n",
       "  </thead>\n",
       "  <tbody>\n",
       "    <tr>\n",
       "      <th>0</th>\n",
       "      <td>2016</td>\n",
       "      <td>401901</td>\n",
       "      <td>13365167</td>\n",
       "      <td>NaN</td>\n",
       "      <td>Registrant</td>\n",
       "      <td>Not Entered</td>\n",
       "      <td>NaN</td>\n",
       "      <td>NaN</td>\n",
       "      <td>U</td>\n",
       "      <td>NaN</td>\n",
       "      <td>NaN</td>\n",
       "      <td>NaN</td>\n",
       "      <td>NaN</td>\n",
       "      <td>Uninjured</td>\n",
       "      <td>NaN</td>\n",
       "    </tr>\n",
       "    <tr>\n",
       "      <th>1</th>\n",
       "      <td>2016</td>\n",
       "      <td>401902</td>\n",
       "      <td>13365696</td>\n",
       "      <td>NaN</td>\n",
       "      <td>Registrant</td>\n",
       "      <td>Not Entered</td>\n",
       "      <td>NaN</td>\n",
       "      <td>NaN</td>\n",
       "      <td>U</td>\n",
       "      <td>NaN</td>\n",
       "      <td>NaN</td>\n",
       "      <td>NaN</td>\n",
       "      <td>NaN</td>\n",
       "      <td>Uninjured</td>\n",
       "      <td>NaN</td>\n",
       "    </tr>\n",
       "    <tr>\n",
       "      <th>2</th>\n",
       "      <td>2016</td>\n",
       "      <td>401904</td>\n",
       "      <td>13367206</td>\n",
       "      <td>NaN</td>\n",
       "      <td>Registrant</td>\n",
       "      <td>Not Entered</td>\n",
       "      <td>NaN</td>\n",
       "      <td>NaN</td>\n",
       "      <td>U</td>\n",
       "      <td>NaN</td>\n",
       "      <td>NaN</td>\n",
       "      <td>NaN</td>\n",
       "      <td>NaN</td>\n",
       "      <td>Uninjured</td>\n",
       "      <td>NaN</td>\n",
       "    </tr>\n",
       "    <tr>\n",
       "      <th>...</th>\n",
       "      <td>...</td>\n",
       "      <td>...</td>\n",
       "      <td>...</td>\n",
       "      <td>...</td>\n",
       "      <td>...</td>\n",
       "      <td>...</td>\n",
       "      <td>...</td>\n",
       "      <td>...</td>\n",
       "      <td>...</td>\n",
       "      <td>...</td>\n",
       "      <td>...</td>\n",
       "      <td>...</td>\n",
       "      <td>...</td>\n",
       "      <td>...</td>\n",
       "      <td>...</td>\n",
       "    </tr>\n",
       "    <tr>\n",
       "      <th>747797</th>\n",
       "      <td>2016</td>\n",
       "      <td>19505120</td>\n",
       "      <td>14867165</td>\n",
       "      <td>Conscious</td>\n",
       "      <td>Passenger of a Motor Vehicle in Transport</td>\n",
       "      <td>Passenger - 3 Front Right</td>\n",
       "      <td>Not Ejected</td>\n",
       "      <td>NaN</td>\n",
       "      <td>M</td>\n",
       "      <td>Unknown</td>\n",
       "      <td>Lap Belt/Harness</td>\n",
       "      <td>Complaint of Pain</td>\n",
       "      <td>Neck</td>\n",
       "      <td>Minor</td>\n",
       "      <td>14.0</td>\n",
       "    </tr>\n",
       "    <tr>\n",
       "      <th>747798</th>\n",
       "      <td>2016</td>\n",
       "      <td>19508301</td>\n",
       "      <td>14869334</td>\n",
       "      <td>Not Entered</td>\n",
       "      <td>Driver of a Motor Vehicle in Transport</td>\n",
       "      <td>Driver</td>\n",
       "      <td>Unknown</td>\n",
       "      <td>NY</td>\n",
       "      <td>M</td>\n",
       "      <td>Not Entered</td>\n",
       "      <td>Lap Belt/Harness</td>\n",
       "      <td>Momentary unconsciousness, limping, nausea, hy...</td>\n",
       "      <td>Not Entered</td>\n",
       "      <td>Minor</td>\n",
       "      <td>20.0</td>\n",
       "    </tr>\n",
       "    <tr>\n",
       "      <th>747799</th>\n",
       "      <td>2016</td>\n",
       "      <td>19508931</td>\n",
       "      <td>13689911</td>\n",
       "      <td>Unknown</td>\n",
       "      <td>Passenger of a Motor Vehicle in Transport</td>\n",
       "      <td>Passenger - 3 Front Right</td>\n",
       "      <td>Unknown</td>\n",
       "      <td>NaN</td>\n",
       "      <td>M</td>\n",
       "      <td>Not Entered</td>\n",
       "      <td>Lap Belt/Harness</td>\n",
       "      <td>Complaint of Pain</td>\n",
       "      <td>Entire Body</td>\n",
       "      <td>Injured with Unkn Severity</td>\n",
       "      <td>NaN</td>\n",
       "    </tr>\n",
       "  </tbody>\n",
       "</table>\n",
       "<p>747800 rows × 15 columns</p>\n",
       "</div>"
      ],
      "text/plain": [
       "        Year  Case Individual ID  Case Vehicle ID Victim Status  \\\n",
       "0       2016              401901         13365167           NaN   \n",
       "1       2016              401902         13365696           NaN   \n",
       "2       2016              401904         13367206           NaN   \n",
       "...      ...                 ...              ...           ...   \n",
       "747797  2016            19505120         14867165     Conscious   \n",
       "747798  2016            19508301         14869334   Not Entered   \n",
       "747799  2016            19508931         13689911       Unknown   \n",
       "\n",
       "                                        Role Type           Seating Position  \\\n",
       "0                                      Registrant                Not Entered   \n",
       "1                                      Registrant                Not Entered   \n",
       "2                                      Registrant                Not Entered   \n",
       "...                                           ...                        ...   \n",
       "747797  Passenger of a Motor Vehicle in Transport  Passenger - 3 Front Right   \n",
       "747798     Driver of a Motor Vehicle in Transport                     Driver   \n",
       "747799  Passenger of a Motor Vehicle in Transport  Passenger - 3 Front Right   \n",
       "\n",
       "           Ejection License State Code Sex Transported By  Safety Equipment  \\\n",
       "0               NaN                NaN   U            NaN               NaN   \n",
       "1               NaN                NaN   U            NaN               NaN   \n",
       "2               NaN                NaN   U            NaN               NaN   \n",
       "...             ...                ...  ..            ...               ...   \n",
       "747797  Not Ejected                NaN   M        Unknown  Lap Belt/Harness   \n",
       "747798      Unknown                 NY   M    Not Entered  Lap Belt/Harness   \n",
       "747799      Unknown                NaN   M    Not Entered  Lap Belt/Harness   \n",
       "\n",
       "                                        Injury Descriptor Injury Location  \\\n",
       "0                                                     NaN             NaN   \n",
       "1                                                     NaN             NaN   \n",
       "2                                                     NaN             NaN   \n",
       "...                                                   ...             ...   \n",
       "747797                                  Complaint of Pain            Neck   \n",
       "747798  Momentary unconsciousness, limping, nausea, hy...     Not Entered   \n",
       "747799                                  Complaint of Pain     Entire Body   \n",
       "\n",
       "                   Injury Severity   Age  \n",
       "0                        Uninjured   NaN  \n",
       "1                        Uninjured   NaN  \n",
       "2                        Uninjured   NaN  \n",
       "...                            ...   ...  \n",
       "747797                       Minor  14.0  \n",
       "747798                       Minor  20.0  \n",
       "747799  Injured with Unkn Severity   NaN  \n",
       "\n",
       "[747800 rows x 15 columns]"
      ]
     },
     "metadata": {},
     "output_type": "display_data"
    }
   ],
   "source": [
    "ind = pd.read_csv('Motor_Vehicle_Crashes_-_Individual_Information__Three_Year_Window.csv')\n",
    "ind = ind[ind['Year']==2016]\n",
    "view(ind,3)"
   ]
  },
  {
   "cell_type": "markdown",
   "metadata": {},
   "source": [
    "#### Column Descriptions\n",
    "\n",
    "From the Data Dictionary for NYS Crash Individual Dataset\n",
    "\n",
    "* **Year:** Calendar year of incident\n",
    "* **Case Individual ID:** ID assigned to the individual in the crash case. This is strictly a database key and not a personal identifier such as a driver license number.\n",
    "* **Case Vehicle ID:** ID assigned to the vehicle in the crash case. This is strictly a database key, and not a vehicle identifier such as a VIN or plate number.\n",
    "* **Victim Status:** Reported status of the individual in the crash, at the time of the crash.\n",
    "* **Role Type:** Reported role of the individual in the crash.\n",
    "* **Seating Position:** Reported seating position description of the individual in the crash.\n",
    "* **Ejection:** Reported notice of whether the individual was ejected from the vehicle.\n",
    "* **License State Code:** Code associated with individual’s state of license. 2 digit Post Office state code is used. If unknown, field is blank.\n",
    "* **Sex:** Sex of individual. M = “Male” F = “Female” U = “Unknown”\n",
    "* **Transported By:** Reported method used for individual to be transported from the crash scene.\n",
    "* **Safety Equipment:** Reported safety equipment used by the individual in the crash.\n",
    "* **Injury Descriptor:** Reported injury description for the individual in the crash.\n",
    "* **Injury Location:** Reported injury location for the individual in the crash.\n",
    "* **Injury Severity:** Reported severity of the injury sustained by the individual.\n",
    "* **Age:** Reported age of the individual in the crash."
   ]
  },
  {
   "cell_type": "markdown",
   "metadata": {},
   "source": [
    "#### Info"
   ]
  },
  {
   "cell_type": "code",
   "execution_count": 4,
   "metadata": {},
   "outputs": [
    {
     "name": "stdout",
     "output_type": "stream",
     "text": [
      "<class 'pandas.core.frame.DataFrame'>\n",
      "Int64Index: 747800 entries, 0 to 747799\n",
      "Data columns (total 15 columns):\n",
      "Year                  747800 non-null int64\n",
      "Case Individual ID    747800 non-null int64\n",
      "Case Vehicle ID       747800 non-null int64\n",
      "Victim Status         717552 non-null object\n",
      "Role Type             747800 non-null object\n",
      "Seating Position      747800 non-null object\n",
      "Ejection              717552 non-null object\n",
      "License State Code    503316 non-null object\n",
      "Sex                   747781 non-null object\n",
      "Transported By        681977 non-null object\n",
      "Safety Equipment      681977 non-null object\n",
      "Injury Descriptor     681977 non-null object\n",
      "Injury Location       681977 non-null object\n",
      "Injury Severity       747800 non-null object\n",
      "Age                   703285 non-null float64\n",
      "dtypes: float64(1), int64(3), object(11)\n",
      "memory usage: 91.3+ MB\n"
     ]
    }
   ],
   "source": [
    "ind.info()"
   ]
  },
  {
   "cell_type": "markdown",
   "metadata": {},
   "source": [
    "#### Describe"
   ]
  },
  {
   "cell_type": "code",
   "execution_count": 5,
   "metadata": {},
   "outputs": [
    {
     "data": {
      "text/html": [
       "<div>\n",
       "<style scoped>\n",
       "    .dataframe tbody tr th:only-of-type {\n",
       "        vertical-align: middle;\n",
       "    }\n",
       "\n",
       "    .dataframe tbody tr th {\n",
       "        vertical-align: top;\n",
       "    }\n",
       "\n",
       "    .dataframe thead th {\n",
       "        text-align: right;\n",
       "    }\n",
       "</style>\n",
       "<table border=\"1\" class=\"dataframe\">\n",
       "  <thead>\n",
       "    <tr style=\"text-align: right;\">\n",
       "      <th></th>\n",
       "      <th>Year</th>\n",
       "      <th>Case Individual ID</th>\n",
       "      <th>Case Vehicle ID</th>\n",
       "      <th>Age</th>\n",
       "    </tr>\n",
       "  </thead>\n",
       "  <tbody>\n",
       "    <tr>\n",
       "      <th>count</th>\n",
       "      <td>747800.0</td>\n",
       "      <td>7.478000e+05</td>\n",
       "      <td>7.478000e+05</td>\n",
       "      <td>703285.000000</td>\n",
       "    </tr>\n",
       "    <tr>\n",
       "      <th>mean</th>\n",
       "      <td>2016.0</td>\n",
       "      <td>1.745009e+07</td>\n",
       "      <td>1.387816e+07</td>\n",
       "      <td>38.833206</td>\n",
       "    </tr>\n",
       "    <tr>\n",
       "      <th>std</th>\n",
       "      <td>0.0</td>\n",
       "      <td>3.514219e+06</td>\n",
       "      <td>2.643900e+05</td>\n",
       "      <td>19.137647</td>\n",
       "    </tr>\n",
       "    <tr>\n",
       "      <th>min</th>\n",
       "      <td>2016.0</td>\n",
       "      <td>4.019010e+05</td>\n",
       "      <td>1.336418e+07</td>\n",
       "      <td>0.000000</td>\n",
       "    </tr>\n",
       "    <tr>\n",
       "      <th>25%</th>\n",
       "      <td>2016.0</td>\n",
       "      <td>1.783550e+07</td>\n",
       "      <td>1.366642e+07</td>\n",
       "      <td>24.000000</td>\n",
       "    </tr>\n",
       "    <tr>\n",
       "      <th>50%</th>\n",
       "      <td>2016.0</td>\n",
       "      <td>1.814357e+07</td>\n",
       "      <td>1.387936e+07</td>\n",
       "      <td>36.000000</td>\n",
       "    </tr>\n",
       "    <tr>\n",
       "      <th>75%</th>\n",
       "      <td>2016.0</td>\n",
       "      <td>1.845702e+07</td>\n",
       "      <td>1.409874e+07</td>\n",
       "      <td>53.000000</td>\n",
       "    </tr>\n",
       "    <tr>\n",
       "      <th>max</th>\n",
       "      <td>2016.0</td>\n",
       "      <td>1.950893e+07</td>\n",
       "      <td>1.486933e+07</td>\n",
       "      <td>95.000000</td>\n",
       "    </tr>\n",
       "  </tbody>\n",
       "</table>\n",
       "</div>"
      ],
      "text/plain": [
       "           Year  Case Individual ID  Case Vehicle ID            Age\n",
       "count  747800.0        7.478000e+05     7.478000e+05  703285.000000\n",
       "mean     2016.0        1.745009e+07     1.387816e+07      38.833206\n",
       "std         0.0        3.514219e+06     2.643900e+05      19.137647\n",
       "min      2016.0        4.019010e+05     1.336418e+07       0.000000\n",
       "25%      2016.0        1.783550e+07     1.366642e+07      24.000000\n",
       "50%      2016.0        1.814357e+07     1.387936e+07      36.000000\n",
       "75%      2016.0        1.845702e+07     1.409874e+07      53.000000\n",
       "max      2016.0        1.950893e+07     1.486933e+07      95.000000"
      ]
     },
     "execution_count": 5,
     "metadata": {},
     "output_type": "execute_result"
    }
   ],
   "source": [
    "ind.describe()"
   ]
  },
  {
   "cell_type": "markdown",
   "metadata": {},
   "source": [
    "#### Column Values"
   ]
  },
  {
   "cell_type": "code",
   "execution_count": 6,
   "metadata": {},
   "outputs": [
    {
     "name": "stdout",
     "output_type": "stream",
     "text": [
      "YEAR\n",
      "\n"
     ]
    },
    {
     "data": {
      "text/plain": [
       "2016    747800\n",
       "Name: Year, dtype: int64"
      ]
     },
     "metadata": {},
     "output_type": "display_data"
    },
    {
     "name": "stdout",
     "output_type": "stream",
     "text": [
      "None\n"
     ]
    },
    {
     "data": {
      "image/png": "[encoded data removed]",
      "text/plain": [
       "<Figure size 432x288 with 1 Axes>"
      ]
     },
     "metadata": {
      "needs_background": "light"
     },
     "output_type": "display_data"
    },
    {
     "name": "stdout",
     "output_type": "stream",
     "text": [
      "\n",
      "**************************************************\n",
      "\n",
      "CASE INDIVIDUAL ID\n",
      "\n"
     ]
    },
    {
     "data": {
      "text/plain": [
       "401901      1\n",
       "401902      1\n",
       "401904      1\n",
       "401905      1\n",
       "401906      1\n",
       "           ..\n",
       "19505118    1\n",
       "19505119    1\n",
       "19505120    1\n",
       "19508301    1\n",
       "19508931    1\n",
       "Name: Case Individual ID, Length: 747800, dtype: int64"
      ]
     },
     "metadata": {},
     "output_type": "display_data"
    },
    {
     "name": "stdout",
     "output_type": "stream",
     "text": [
      "None\n"
     ]
    },
    {
     "data": {
      "image/png": "[encoded data removed]",
      "text/plain": [
       "<Figure size 432x288 with 1 Axes>"
      ]
     },
     "metadata": {
      "needs_background": "light"
     },
     "output_type": "display_data"
    },
    {
     "name": "stdout",
     "output_type": "stream",
     "text": [
      "\n",
      "**************************************************\n",
      "\n",
      "CASE VEHICLE ID\n",
      "\n"
     ]
    },
    {
     "data": {
      "text/plain": [
       "13364180    2\n",
       "13364181    1\n",
       "13364182    1\n",
       "13364283    1\n",
       "13364291    1\n",
       "           ..\n",
       "14867087    1\n",
       "14867164    1\n",
       "14867165    2\n",
       "14869240    1\n",
       "14869334    1\n",
       "Name: Case Vehicle ID, Length: 560607, dtype: int64"
      ]
     },
     "metadata": {},
     "output_type": "display_data"
    },
    {
     "name": "stdout",
     "output_type": "stream",
     "text": [
      "None\n"
     ]
    },
    {
     "data": {
      "image/png": "[encoded data removed]",
      "text/plain": [
       "<Figure size 432x288 with 1 Axes>"
      ]
     },
     "metadata": {
      "needs_background": "light"
     },
     "output_type": "display_data"
    },
    {
     "name": "stdout",
     "output_type": "stream",
     "text": [
      "\n",
      "**************************************************\n",
      "\n",
      "VICTIM STATUS\n",
      "\n"
     ]
    },
    {
     "data": {
      "text/plain": [
       "Apparent Death       583\n",
       "Conscious         138980\n",
       "Incoherent           909\n",
       "Not Applicable    333238\n",
       "Not Entered       234564\n",
       "Semiconscious       1806\n",
       "Shock               2691\n",
       "Unconscious         1099\n",
       "Unknown             3682\n",
       "Name: Victim Status, dtype: int64"
      ]
     },
     "metadata": {},
     "output_type": "display_data"
    },
    {
     "name": "stdout",
     "output_type": "stream",
     "text": [
      "None\n"
     ]
    },
    {
     "data": {
      "image/png": "[encoded data removed]",
      "text/plain": [
       "<Figure size 432x288 with 1 Axes>"
      ]
     },
     "metadata": {
      "needs_background": "light"
     },
     "output_type": "display_data"
    },
    {
     "name": "stdout",
     "output_type": "stream",
     "text": [
      "\n",
      "**************************************************\n",
      "\n",
      "ROLE TYPE\n",
      "\n"
     ]
    },
    {
     "data": {
      "text/plain": [
       "Bicyclist (operator)                                                                             6320\n",
       "Bicyclist (passenger)                                                                              36\n",
       "Driver -- Missing Information                                                                   26519\n",
       "Driver of a Motor Vehicle in Transport                                                         469944\n",
       "Other Pedestrians (occupants of transport device used as equipment, occupant in a building)       337\n",
       "Passenger of a Motor Vehicle in Transport                                                      187157\n",
       "Pedestrian                                                                                      15492\n",
       "Registrant                                                                                      41995\n",
       "Name: Role Type, dtype: int64"
      ]
     },
     "metadata": {},
     "output_type": "display_data"
    },
    {
     "name": "stdout",
     "output_type": "stream",
     "text": [
      "None\n"
     ]
    },
    {
     "data": {
      "image/png": "[encoded data removed]",
      "text/plain": [
       "<Figure size 432x288 with 1 Axes>"
      ]
     },
     "metadata": {
      "needs_background": "light"
     },
     "output_type": "display_data"
    },
    {
     "name": "stdout",
     "output_type": "stream",
     "text": [
      "\n",
      "**************************************************\n",
      "\n",
      "SEATING POSITION\n",
      "\n"
     ]
    },
    {
     "data": {
      "text/plain": [
       "Driver                           496289\n",
       "Not Applicable                    15862\n",
       "Not Entered                       49621\n",
       "Passenger - 2 Front Middle         4206\n",
       "Passenger - 3 Front Right         89344\n",
       "                                  ...  \n",
       "Passenger - 6 Back Right          33037\n",
       "Passenger - 7 Back Cargo Area     15877\n",
       "Riding/Hanging on Outside           149\n",
       "Unknown Position In Vehicle         450\n",
       "Unknown Seating Passenger          6651\n",
       "Name: Seating Position, Length: 12, dtype: int64"
      ]
     },
     "metadata": {},
     "output_type": "display_data"
    },
    {
     "name": "stdout",
     "output_type": "stream",
     "text": [
      "None\n"
     ]
    },
    {
     "data": {
      "image/png": "[encoded data removed]",
      "text/plain": [
       "<Figure size 432x288 with 1 Axes>"
      ]
     },
     "metadata": {
      "needs_background": "light"
     },
     "output_type": "display_data"
    },
    {
     "name": "stdout",
     "output_type": "stream",
     "text": [
      "\n",
      "**************************************************\n",
      "\n",
      "EJECTION\n",
      "\n"
     ]
    },
    {
     "data": {
      "text/plain": [
       "Ejected                5380\n",
       "Not Applicable        16344\n",
       "Not Ejected          622624\n",
       "Not Entered           46054\n",
       "Partially Ejected      1557\n",
       "Unknown               25593\n",
       "Name: Ejection, dtype: int64"
      ]
     },
     "metadata": {},
     "output_type": "display_data"
    },
    {
     "name": "stdout",
     "output_type": "stream",
     "text": [
      "None\n"
     ]
    },
    {
     "data": {
      "image/png": "[encoded data removed]",
      "text/plain": [
       "<Figure size 432x288 with 1 Axes>"
      ]
     },
     "metadata": {
      "needs_background": "light"
     },
     "output_type": "display_data"
    },
    {
     "name": "stdout",
     "output_type": "stream",
     "text": [
      "\n",
      "**************************************************\n",
      "\n",
      "LICENSE STATE CODE\n",
      "\n"
     ]
    },
    {
     "data": {
      "text/plain": [
       "AB     10\n",
       "AK     22\n",
       "AL    123\n",
       "AR     66\n",
       "AZ    260\n",
       "     ... \n",
       "WI     98\n",
       "WV     64\n",
       "WY     18\n",
       "YT      2\n",
       "ZS    109\n",
       "Name: License State Code, Length: 86, dtype: int64"
      ]
     },
     "metadata": {},
     "output_type": "display_data"
    },
    {
     "name": "stdout",
     "output_type": "stream",
     "text": [
      "None\n"
     ]
    },
    {
     "data": {
      "image/png": "[encoded data removed]",
      "text/plain": [
       "<Figure size 432x288 with 1 Axes>"
      ]
     },
     "metadata": {
      "needs_background": "light"
     },
     "output_type": "display_data"
    },
    {
     "name": "stdout",
     "output_type": "stream",
     "text": [
      "\n",
      "**************************************************\n",
      "\n",
      "SEX\n",
      "\n"
     ]
    },
    {
     "data": {
      "text/plain": [
       "F    312693\n",
       "M    402423\n",
       "U     32665\n",
       "Name: Sex, dtype: int64"
      ]
     },
     "metadata": {},
     "output_type": "display_data"
    },
    {
     "name": "stdout",
     "output_type": "stream",
     "text": [
      "None\n"
     ]
    },
    {
     "data": {
      "image/png": "[encoded data removed]",
      "text/plain": [
       "<Figure size 432x288 with 1 Axes>"
      ]
     },
     "metadata": {
      "needs_background": "light"
     },
     "output_type": "display_data"
    },
    {
     "name": "stdout",
     "output_type": "stream",
     "text": [
      "\n",
      "**************************************************\n",
      "\n",
      "TRANSPORTED BY\n",
      "\n"
     ]
    },
    {
     "data": {
      "text/plain": [
       "Ambulance (Unknown plate number)                   9397\n",
       "Coroner's Van or Municipal Emergency Equipment      706\n",
       "Fire Vehicle                                      12149\n",
       "Helicopter                                          850\n",
       "Invalid Coach (Funeral)                              65\n",
       "                                                  ...  \n",
       "Police Ambulance                                  14689\n",
       "Police Car                                          368\n",
       "Private Vehicle                                    2943\n",
       "Unknown                                           45309\n",
       "Unknown Ambulance                                 17831\n",
       "Name: Transported By, Length: 12, dtype: int64"
      ]
     },
     "metadata": {},
     "output_type": "display_data"
    },
    {
     "name": "stdout",
     "output_type": "stream",
     "text": [
      "None\n"
     ]
    },
    {
     "data": {
      "image/png": "[encoded data removed]",
      "text/plain": [
       "<Figure size 432x288 with 1 Axes>"
      ]
     },
     "metadata": {
      "needs_background": "light"
     },
     "output_type": "display_data"
    },
    {
     "name": "stdout",
     "output_type": "stream",
     "text": [
      "\n",
      "**************************************************\n",
      "\n",
      "SAFETY EQUIPMENT\n",
      "\n"
     ]
    },
    {
     "data": {
      "text/plain": [
       "Air Bag Deployed                      2848\n",
       "Air Bag Deployed/Child Restraint       388\n",
       "Air Bag Deployed/Harness              1276\n",
       "Air Bag Deployed/Lap Belt             1994\n",
       "Air Bag Deployed/Lap Belt/Harness    29199\n",
       "                                     ...  \n",
       "None                                 20774\n",
       "Not Applicable                       17482\n",
       "Not Entered                          10307\n",
       "Other*                                 622\n",
       "Unknown                              58495\n",
       "Name: Safety Equipment, Length: 19, dtype: int64"
      ]
     },
     "metadata": {},
     "output_type": "display_data"
    },
    {
     "name": "stdout",
     "output_type": "stream",
     "text": [
      "None\n"
     ]
    },
    {
     "data": {
      "image/png": "[encoded data removed]",
      "text/plain": [
       "<Figure size 432x288 with 1 Axes>"
      ]
     },
     "metadata": {
      "needs_background": "light"
     },
     "output_type": "display_data"
    },
    {
     "name": "stdout",
     "output_type": "stream",
     "text": [
      "\n",
      "**************************************************\n",
      "\n",
      "INJURY DESCRIPTOR\n",
      "\n"
     ]
    },
    {
     "data": {
      "text/plain": [
       "Abrasion                                                                                                                                                                                                 3963\n",
       "Amputation                                                                                                                                                                                                 86\n",
       "Complaint of Pain                                                                                                                                                                                      100975\n",
       "Concusion                                                                                                                                                                                                1115\n",
       "Contusion - Bruise                                                                                                                                                                                       4414\n",
       "                                                                                                                                                                                                        ...  \n",
       "Severe Bleeding                                                                                                                                                                                          1392\n",
       "Severe Burn                                                                                                                                                                                                56\n",
       "Severe lacerations, broken or distorted limbs, skull fracture, crushed chest, internal injuries, unconscious when taken from the accident scene, unable to leave accident scene without assistance.       516\n",
       "Unknown                                                                                                                                                                                                  6013\n",
       "Whiplash                                                                                                                                                                                                 3630\n",
       "Name: Injury Descriptor, Length: 20, dtype: int64"
      ]
     },
     "metadata": {},
     "output_type": "display_data"
    },
    {
     "name": "stdout",
     "output_type": "stream",
     "text": [
      "None\n"
     ]
    },
    {
     "data": {
      "image/png": "[encoded data removed]",
      "text/plain": [
       "<Figure size 432x288 with 1 Axes>"
      ]
     },
     "metadata": {
      "needs_background": "light"
     },
     "output_type": "display_data"
    },
    {
     "name": "stdout",
     "output_type": "stream",
     "text": [
      "\n",
      "**************************************************\n",
      "\n",
      "INJURY LOCATION\n",
      "\n"
     ]
    },
    {
     "data": {
      "text/plain": [
       "Abdomen-Pelvis            3278\n",
       "Back                     21346\n",
       "Chest                    10062\n",
       "Elbow-Lower Arm-Hand     11596\n",
       "Entire Body               9509\n",
       "                         ...  \n",
       "Neck                     28752\n",
       "Not Applicable          336257\n",
       "Not Entered             196041\n",
       "Shoulder-Upper Arm        8741\n",
       "Unknown                   8445\n",
       "Name: Injury Location, Length: 15, dtype: int64"
      ]
     },
     "metadata": {},
     "output_type": "display_data"
    },
    {
     "name": "stdout",
     "output_type": "stream",
     "text": [
      "None\n"
     ]
    },
    {
     "data": {
      "image/png": "[encoded data removed]",
      "text/plain": [
       "<Figure size 432x288 with 1 Axes>"
      ]
     },
     "metadata": {
      "needs_background": "light"
     },
     "output_type": "display_data"
    },
    {
     "name": "stdout",
     "output_type": "stream",
     "text": [
      "\n",
      "**************************************************\n",
      "\n",
      "INJURY SEVERITY\n",
      "\n"
     ]
    },
    {
     "data": {
      "text/plain": [
       "Injured with Unkn Severity      7976\n",
       "Killed                          1029\n",
       "Minor                         130788\n",
       "Moderate                       19619\n",
       "Severe                         11501\n",
       "Uninjured                     576887\n",
       "Name: Injury Severity, dtype: int64"
      ]
     },
     "metadata": {},
     "output_type": "display_data"
    },
    {
     "name": "stdout",
     "output_type": "stream",
     "text": [
      "None\n"
     ]
    },
    {
     "data": {
      "image/png": "[encoded data removed]",
      "text/plain": [
       "<Figure size 432x288 with 1 Axes>"
      ]
     },
     "metadata": {
      "needs_background": "light"
     },
     "output_type": "display_data"
    },
    {
     "name": "stdout",
     "output_type": "stream",
     "text": [
      "\n",
      "**************************************************\n",
      "\n",
      "AGE\n",
      "\n"
     ]
    },
    {
     "data": {
      "text/plain": [
       "0.0     2072\n",
       "1.0     3845\n",
       "2.0     3413\n",
       "3.0     3377\n",
       "4.0     3461\n",
       "        ... \n",
       "91.0     407\n",
       "92.0     308\n",
       "93.0     199\n",
       "94.0     165\n",
       "95.0     100\n",
       "Name: Age, Length: 96, dtype: int64"
      ]
     },
     "metadata": {},
     "output_type": "display_data"
    },
    {
     "name": "stdout",
     "output_type": "stream",
     "text": [
      "None\n"
     ]
    },
    {
     "data": {
      "image/png": "[encoded data removed]",
      "text/plain": [
       "<Figure size 432x288 with 1 Axes>"
      ]
     },
     "metadata": {
      "needs_background": "light"
     },
     "output_type": "display_data"
    },
    {
     "name": "stdout",
     "output_type": "stream",
     "text": [
      "\n",
      "**************************************************\n",
      "\n"
     ]
    }
   ],
   "source": [
    "for i in ind.columns:\n",
    "    print(i.upper())\n",
    "    print()\n",
    "    print(view(ind[i].value_counts().sort_index(),5))\n",
    "    ind[i].value_counts().head(20).plot(kind='barh')\n",
    "    plt.show()\n",
    "    print()\n",
    "    print('*'*50)\n",
    "    print()"
   ]
  },
  {
   "cell_type": "markdown",
   "metadata": {},
   "source": [
    "## Preprocessing"
   ]
  },
  {
   "cell_type": "markdown",
   "metadata": {},
   "source": [
    "### Renaming Columns"
   ]
  },
  {
   "cell_type": "code",
   "execution_count": 7,
   "metadata": {
    "tags": [
     "rename/dropcols"
    ]
   },
   "outputs": [],
   "source": [
    "# Renaming the columns for easier handling\n",
    "\n",
    "ind.columns = ['year', \n",
    "               'ind_id', \n",
    "               'veh_id', \n",
    "               'status', \n",
    "               'role', \n",
    "               'seating', \n",
    "               'ejection', \n",
    "               'dl_state', \n",
    "               'sex', \n",
    "               'transported_by', \n",
    "               'safety_equipment', \n",
    "               'injury_description', \n",
    "               'injury_location', \n",
    "               'injury_severity', \n",
    "               'age']"
   ]
  },
  {
   "cell_type": "markdown",
   "metadata": {},
   "source": [
    "### Dropping Unnecessary Columns\n",
    "\n",
    "My objective is to assess the factors that contribut to whether or not someone is injured in a car accident. I will remove the following columns, which do not provide any information that will be helpful to work with:\n",
    "\n",
    "* **Year:** We cut down the dataset to entries only from 2016, so this column no longer provides any information\n",
    "* **Victim Status:** The large majority of entries in this column are not entered or not applicable\n",
    "* **Ejection:** The large majority of these individuals were not ejected. Also, it can be assumed that if an individual was ejected from the vehicle, there was a definite injury\n",
    "* **License State Code:** The large majority of the values in this column are NY. That makes sense, because most of the cases likely involve NY residents, and you need a NY driver's license to be able to drive in NY\n",
    "* **Transported By, Injury Descriptor, and Injury Location:** These columns contain information, given an injury. Because I am already binning the entries into injured vs. uninjured, these columns are irrelevant"
   ]
  },
  {
   "cell_type": "code",
   "execution_count": 8,
   "metadata": {
    "tags": [
     "setcleaning",
     "load/preview"
    ]
   },
   "outputs": [],
   "source": [
    "ind = ind.drop(columns=['year',\n",
    "                        'status',\n",
    "                        'ejection',\n",
    "                        'dl_state',\n",
    "                        'transported_by',\n",
    "                        'injury_description',\n",
    "                        'injury_location'])"
   ]
  },
  {
   "cell_type": "markdown",
   "metadata": {},
   "source": [
    "### Checking Null Values\n",
    "\n",
    "There are quite a few in some of the columns. I am planning to trim down several columns, so I will see how that affects the null value count."
   ]
  },
  {
   "cell_type": "code",
   "execution_count": 9,
   "metadata": {
    "tags": [
     "setcleaning"
    ]
   },
   "outputs": [
    {
     "data": {
      "text/plain": [
       "ind_id                  0\n",
       "veh_id                  0\n",
       "role                    0\n",
       "seating                 0\n",
       "sex                    19\n",
       "safety_equipment    65823\n",
       "injury_severity         0\n",
       "age                 44515\n",
       "dtype: int64"
      ]
     },
     "execution_count": 9,
     "metadata": {},
     "output_type": "execute_result"
    }
   ],
   "source": [
    "# Null values count\n",
    "\n",
    "ind.isna().sum()"
   ]
  },
  {
   "cell_type": "markdown",
   "metadata": {},
   "source": [
    "### Fixing Each Column"
   ]
  },
  {
   "cell_type": "markdown",
   "metadata": {},
   "source": [
    "#### Seating and Role\n",
    "\n",
    "I only want to work with data from drivers and passengers of motor vehicles, so I will remove entries for anyone who does not fit in either of these categories."
   ]
  },
  {
   "cell_type": "code",
   "execution_count": 10,
   "metadata": {},
   "outputs": [],
   "source": [
    "ind = ind[(ind.seating.str.contains('Driver|Passenger ')) & (ind.role.str.contains('Driver of|Passenger'))]"
   ]
  },
  {
   "cell_type": "code",
   "execution_count": 11,
   "metadata": {},
   "outputs": [],
   "source": [
    "# No longer need the role column, because information is redundant with seating column\n",
    "\n",
    "ind = ind.drop(columns=['role'])"
   ]
  },
  {
   "cell_type": "code",
   "execution_count": 12,
   "metadata": {
    "tags": [
     "setcleaning"
    ]
   },
   "outputs": [],
   "source": [
    "# Simplifying seating names of Driver and Passengers\n",
    "\n",
    "ind.seating.replace('Driver','driver',inplace=True)\n",
    "ind.seating.replace('Passenger - 2 Front Middle', 'pass_frontmid', inplace=True)\n",
    "ind.seating.replace('Passenger - 3 Front Right', 'pass_frontright', inplace=True)\n",
    "ind.seating.replace('Passenger - 4 Back Left', 'pass_backleft', inplace=True)\n",
    "ind.seating.replace('Passenger - 5 Back Middle', 'pass_backmid', inplace=True)\n",
    "ind.seating.replace('Passenger - 6 Back Right', 'pass_backright', inplace=True)\n",
    "ind.seating.replace('Passenger - 7 Back Cargo Area', 'pass_backcargo', inplace=True)"
   ]
  },
  {
   "cell_type": "code",
   "execution_count": 13,
   "metadata": {},
   "outputs": [
    {
     "data": {
      "text/plain": [
       "driver             460978\n",
       "pass_frontright     89343\n",
       "pass_backright      33036\n",
       "pass_backleft       27151\n",
       "pass_backcargo      15877\n",
       "pass_backmid         9121\n",
       "pass_frontmid        4206\n",
       "Name: seating, dtype: int64"
      ]
     },
     "execution_count": 13,
     "metadata": {},
     "output_type": "execute_result"
    }
   ],
   "source": [
    "ind.seating.value_counts()"
   ]
  },
  {
   "cell_type": "markdown",
   "metadata": {},
   "source": [
    "#### Sex"
   ]
  },
  {
   "cell_type": "code",
   "execution_count": 14,
   "metadata": {},
   "outputs": [
    {
     "data": {
      "text/plain": [
       "M    357165\n",
       "F    281560\n",
       "U       987\n",
       "Name: sex, dtype: int64"
      ]
     },
     "execution_count": 14,
     "metadata": {},
     "output_type": "execute_result"
    }
   ],
   "source": [
    "ind.sex.value_counts()"
   ]
  },
  {
   "cell_type": "code",
   "execution_count": 15,
   "metadata": {},
   "outputs": [
    {
     "data": {
      "text/plain": [
       "0.0015428817968085639"
      ]
     },
     "execution_count": 15,
     "metadata": {},
     "output_type": "execute_result"
    }
   ],
   "source": [
    "len(ind[ind.sex == 'U'])/len(ind)"
   ]
  },
  {
   "cell_type": "markdown",
   "metadata": {},
   "source": [
    "Sex is an important feature. Entries with 'U' for unknown make up only 0.05% of the data, so I will remove these rows."
   ]
  },
  {
   "cell_type": "code",
   "execution_count": 16,
   "metadata": {},
   "outputs": [],
   "source": [
    "ind = ind[~(ind.sex == 'U')]"
   ]
  },
  {
   "cell_type": "code",
   "execution_count": 17,
   "metadata": {},
   "outputs": [],
   "source": [
    "ind.sex = ind.sex.str.lower()"
   ]
  },
  {
   "cell_type": "markdown",
   "metadata": {},
   "source": [
    "#### Age"
   ]
  },
  {
   "cell_type": "code",
   "execution_count": 18,
   "metadata": {
    "tags": [
     "setcleaning"
    ]
   },
   "outputs": [
    {
     "name": "stdout",
     "output_type": "stream",
     "text": [
      "9727\n",
      "0.015228776077341579\n"
     ]
    }
   ],
   "source": [
    "# Null values count\n",
    "\n",
    "print(ind.age.isna().sum())\n",
    "print(ind.age.isna().sum()/len(ind))"
   ]
  },
  {
   "cell_type": "markdown",
   "metadata": {},
   "source": [
    "Age is an important feature that needs to be continuous, but there are 10,348 missing values. That makes up less than 2% of the total data. I will drop all remaining rows with null values."
   ]
  },
  {
   "cell_type": "code",
   "execution_count": 19,
   "metadata": {},
   "outputs": [],
   "source": [
    "ind = ind[~ind.age.isna()]"
   ]
  },
  {
   "cell_type": "markdown",
   "metadata": {},
   "source": [
    "#### Safety Equipment"
   ]
  },
  {
   "cell_type": "code",
   "execution_count": 20,
   "metadata": {},
   "outputs": [
    {
     "data": {
      "text/plain": [
       "Lap Belt/Harness                         466231\n",
       "Unknown                                   50857\n",
       "Air Bag Deployed/Lap Belt/Harness         29016\n",
       "Lap Belt                                  28759\n",
       "Child Restraint Only                      17219\n",
       "None                                      15388\n",
       "Harness                                    9379\n",
       "Helmet (motorcycle only)                   4272\n",
       "Air Bag Deployed                           2781\n",
       "Air Bag Deployed/Lap Belt                  1968\n",
       "Air Bag Deployed/Harness                   1261\n",
       "Not Applicable                              987\n",
       "Other*                                      514\n",
       "Air Bag Deployed/Child Restraint            364\n",
       "In-line Skates Bicyclist(Helmet Only)         2\n",
       "Name: safety_equipment, dtype: int64"
      ]
     },
     "execution_count": 20,
     "metadata": {},
     "output_type": "execute_result"
    }
   ],
   "source": [
    "ind.safety_equipment.value_counts()"
   ]
  },
  {
   "cell_type": "markdown",
   "metadata": {},
   "source": [
    "The Safety Equipment column is really messy and includes multiple cases. I will feature engineer this to create new columns:\n",
    "\n",
    "* **airbag:** if an airbag deployed\n",
    "* **seatbelt:** if a harness was worn (I will assume that if a harness was worn, it was also worn with a lapbelt)\n",
    "* **lapbelt_only:** if a lapbelt was worn with no harness (common in middle seats)\n",
    "* **childrestraint:** if a child restraint was worn"
   ]
  },
  {
   "cell_type": "code",
   "execution_count": 21,
   "metadata": {},
   "outputs": [],
   "source": [
    "ind[\"airbag\"] = ind.safety_equipment.where(ind.safety_equipment.str.contains(\"Air Bag\"), False)\n",
    "ind[\"airbag\"] = ind.airbag.where(ind.airbag == False, True)"
   ]
  },
  {
   "cell_type": "code",
   "execution_count": 22,
   "metadata": {},
   "outputs": [],
   "source": [
    "ind[\"seatbelt\"] = ind.safety_equipment.where(ind.safety_equipment.str.contains(\"Harness\"), False)\n",
    "ind[\"seatbelt\"] = ind.seatbelt.where(ind.seatbelt == False, True)"
   ]
  },
  {
   "cell_type": "code",
   "execution_count": 23,
   "metadata": {},
   "outputs": [],
   "source": [
    "ind[\"lapbelt_only\"] = ind.safety_equipment.where(ind.safety_equipment.str.contains(\"Lap Belt\") \\\n",
    "                    & (ind.seatbelt==False), False)\n",
    "ind[\"lapbelt_only\"] = ind.lapbelt_only.where(ind.lapbelt_only == False, True)"
   ]
  },
  {
   "cell_type": "code",
   "execution_count": 24,
   "metadata": {},
   "outputs": [],
   "source": [
    "ind[\"childrestraint\"] = ind.safety_equipment.where(ind.safety_equipment.str.contains(\"Child Restraint\"), False)\n",
    "ind[\"childrestraint\"] = ind.childrestraint.where(ind.childrestraint == False, True)"
   ]
  },
  {
   "cell_type": "code",
   "execution_count": 25,
   "metadata": {},
   "outputs": [],
   "source": [
    "# No longer need this column\n",
    "\n",
    "ind = ind.drop(columns='safety_equipment')"
   ]
  },
  {
   "cell_type": "markdown",
   "metadata": {},
   "source": [
    "#### Changing the Target to Binary\n",
    "\n",
    "Our target is Injury - we want to classify whether or not there was an injury for this individual."
   ]
  },
  {
   "cell_type": "code",
   "execution_count": 26,
   "metadata": {},
   "outputs": [],
   "source": [
    "ind.injury_severity = ind.injury_severity.where(ind.injury_severity == 'Uninjured', 'Injured')\n",
    "ind[\"injured\"] = ind.injury_severity.replace('Injured',True).replace('Uninjured',False)"
   ]
  },
  {
   "cell_type": "code",
   "execution_count": 27,
   "metadata": {},
   "outputs": [],
   "source": [
    "# No longer need this column\n",
    "\n",
    "ind = ind.drop(columns='injury_severity')"
   ]
  },
  {
   "cell_type": "markdown",
   "metadata": {},
   "source": [
    "#### Fixing Data Types\n",
    "\n",
    "Age is the only column that should be numeric, and it should be an int type. It could not be changed earlier, while there were still null values in it, but I can change it now. The Individual ID and Vehicle ID are displayed as int type, but these are actually identifiers and not continuous. I will change the datatype for those columns to str."
   ]
  },
  {
   "cell_type": "code",
   "execution_count": 28,
   "metadata": {},
   "outputs": [],
   "source": [
    "ind.ind_id = ind.ind_id.astype(str)\n",
    "ind.veh_id = ind.veh_id.astype(str)\n",
    "ind.age = ind.age.astype(int)"
   ]
  },
  {
   "cell_type": "code",
   "execution_count": 29,
   "metadata": {},
   "outputs": [
    {
     "name": "stdout",
     "output_type": "stream",
     "text": [
      "<class 'pandas.core.frame.DataFrame'>\n",
      "Int64Index: 628998 entries, 30248 to 747798\n",
      "Data columns (total 10 columns):\n",
      "ind_id            628998 non-null object\n",
      "veh_id            628998 non-null object\n",
      "seating           628998 non-null object\n",
      "sex               628998 non-null object\n",
      "age               628998 non-null int64\n",
      "airbag            628998 non-null object\n",
      "seatbelt          628998 non-null object\n",
      "lapbelt_only      628998 non-null object\n",
      "childrestraint    628998 non-null object\n",
      "injured           628998 non-null bool\n",
      "dtypes: bool(1), int64(1), object(8)\n",
      "memory usage: 48.6+ MB\n"
     ]
    }
   ],
   "source": [
    "ind.info()"
   ]
  },
  {
   "cell_type": "markdown",
   "metadata": {},
   "source": [
    "## Checking"
   ]
  },
  {
   "cell_type": "markdown",
   "metadata": {},
   "source": [
    "#### Preview"
   ]
  },
  {
   "cell_type": "code",
   "execution_count": 30,
   "metadata": {},
   "outputs": [
    {
     "data": {
      "text/html": [
       "<div>\n",
       "<style scoped>\n",
       "    .dataframe tbody tr th:only-of-type {\n",
       "        vertical-align: middle;\n",
       "    }\n",
       "\n",
       "    .dataframe tbody tr th {\n",
       "        vertical-align: top;\n",
       "    }\n",
       "\n",
       "    .dataframe thead th {\n",
       "        text-align: right;\n",
       "    }\n",
       "</style>\n",
       "<table border=\"1\" class=\"dataframe\">\n",
       "  <thead>\n",
       "    <tr style=\"text-align: right;\">\n",
       "      <th></th>\n",
       "      <th>ind_id</th>\n",
       "      <th>veh_id</th>\n",
       "      <th>seating</th>\n",
       "      <th>sex</th>\n",
       "      <th>age</th>\n",
       "      <th>airbag</th>\n",
       "      <th>seatbelt</th>\n",
       "      <th>lapbelt_only</th>\n",
       "      <th>childrestraint</th>\n",
       "      <th>injured</th>\n",
       "    </tr>\n",
       "  </thead>\n",
       "  <tbody>\n",
       "    <tr>\n",
       "      <th>30248</th>\n",
       "      <td>17475364</td>\n",
       "      <td>13364180</td>\n",
       "      <td>driver</td>\n",
       "      <td>f</td>\n",
       "      <td>24</td>\n",
       "      <td>True</td>\n",
       "      <td>True</td>\n",
       "      <td>False</td>\n",
       "      <td>False</td>\n",
       "      <td>True</td>\n",
       "    </tr>\n",
       "    <tr>\n",
       "      <th>30249</th>\n",
       "      <td>17475365</td>\n",
       "      <td>13364180</td>\n",
       "      <td>pass_backmid</td>\n",
       "      <td>m</td>\n",
       "      <td>1</td>\n",
       "      <td>False</td>\n",
       "      <td>False</td>\n",
       "      <td>False</td>\n",
       "      <td>True</td>\n",
       "      <td>False</td>\n",
       "    </tr>\n",
       "    <tr>\n",
       "      <th>30250</th>\n",
       "      <td>17475366</td>\n",
       "      <td>13364181</td>\n",
       "      <td>driver</td>\n",
       "      <td>m</td>\n",
       "      <td>27</td>\n",
       "      <td>True</td>\n",
       "      <td>True</td>\n",
       "      <td>False</td>\n",
       "      <td>False</td>\n",
       "      <td>False</td>\n",
       "    </tr>\n",
       "    <tr>\n",
       "      <th>...</th>\n",
       "      <td>...</td>\n",
       "      <td>...</td>\n",
       "      <td>...</td>\n",
       "      <td>...</td>\n",
       "      <td>...</td>\n",
       "      <td>...</td>\n",
       "      <td>...</td>\n",
       "      <td>...</td>\n",
       "      <td>...</td>\n",
       "      <td>...</td>\n",
       "    </tr>\n",
       "    <tr>\n",
       "      <th>747796</th>\n",
       "      <td>19505119</td>\n",
       "      <td>14867165</td>\n",
       "      <td>driver</td>\n",
       "      <td>f</td>\n",
       "      <td>45</td>\n",
       "      <td>False</td>\n",
       "      <td>True</td>\n",
       "      <td>False</td>\n",
       "      <td>False</td>\n",
       "      <td>True</td>\n",
       "    </tr>\n",
       "    <tr>\n",
       "      <th>747797</th>\n",
       "      <td>19505120</td>\n",
       "      <td>14867165</td>\n",
       "      <td>pass_frontright</td>\n",
       "      <td>m</td>\n",
       "      <td>14</td>\n",
       "      <td>False</td>\n",
       "      <td>True</td>\n",
       "      <td>False</td>\n",
       "      <td>False</td>\n",
       "      <td>True</td>\n",
       "    </tr>\n",
       "    <tr>\n",
       "      <th>747798</th>\n",
       "      <td>19508301</td>\n",
       "      <td>14869334</td>\n",
       "      <td>driver</td>\n",
       "      <td>m</td>\n",
       "      <td>20</td>\n",
       "      <td>False</td>\n",
       "      <td>True</td>\n",
       "      <td>False</td>\n",
       "      <td>False</td>\n",
       "      <td>True</td>\n",
       "    </tr>\n",
       "  </tbody>\n",
       "</table>\n",
       "<p>628998 rows × 10 columns</p>\n",
       "</div>"
      ],
      "text/plain": [
       "          ind_id    veh_id          seating sex  age airbag seatbelt  \\\n",
       "30248   17475364  13364180           driver   f   24   True     True   \n",
       "30249   17475365  13364180     pass_backmid   m    1  False    False   \n",
       "30250   17475366  13364181           driver   m   27   True     True   \n",
       "...          ...       ...              ...  ..  ...    ...      ...   \n",
       "747796  19505119  14867165           driver   f   45  False     True   \n",
       "747797  19505120  14867165  pass_frontright   m   14  False     True   \n",
       "747798  19508301  14869334           driver   m   20  False     True   \n",
       "\n",
       "       lapbelt_only childrestraint  injured  \n",
       "30248         False          False     True  \n",
       "30249         False           True    False  \n",
       "30250         False          False    False  \n",
       "...             ...            ...      ...  \n",
       "747796        False          False     True  \n",
       "747797        False          False     True  \n",
       "747798        False          False     True  \n",
       "\n",
       "[628998 rows x 10 columns]"
      ]
     },
     "metadata": {},
     "output_type": "display_data"
    }
   ],
   "source": [
    "view(ind,3)"
   ]
  },
  {
   "cell_type": "markdown",
   "metadata": {},
   "source": [
    "#### Info"
   ]
  },
  {
   "cell_type": "code",
   "execution_count": 31,
   "metadata": {},
   "outputs": [
    {
     "name": "stdout",
     "output_type": "stream",
     "text": [
      "<class 'pandas.core.frame.DataFrame'>\n",
      "Int64Index: 628998 entries, 30248 to 747798\n",
      "Data columns (total 10 columns):\n",
      "ind_id            628998 non-null object\n",
      "veh_id            628998 non-null object\n",
      "seating           628998 non-null object\n",
      "sex               628998 non-null object\n",
      "age               628998 non-null int64\n",
      "airbag            628998 non-null object\n",
      "seatbelt          628998 non-null object\n",
      "lapbelt_only      628998 non-null object\n",
      "childrestraint    628998 non-null object\n",
      "injured           628998 non-null bool\n",
      "dtypes: bool(1), int64(1), object(8)\n",
      "memory usage: 48.6+ MB\n"
     ]
    }
   ],
   "source": [
    "ind.info()"
   ]
  },
  {
   "cell_type": "markdown",
   "metadata": {},
   "source": [
    "#### Describe"
   ]
  },
  {
   "cell_type": "code",
   "execution_count": 32,
   "metadata": {},
   "outputs": [
    {
     "data": {
      "text/html": [
       "<div>\n",
       "<style scoped>\n",
       "    .dataframe tbody tr th:only-of-type {\n",
       "        vertical-align: middle;\n",
       "    }\n",
       "\n",
       "    .dataframe tbody tr th {\n",
       "        vertical-align: top;\n",
       "    }\n",
       "\n",
       "    .dataframe thead th {\n",
       "        text-align: right;\n",
       "    }\n",
       "</style>\n",
       "<table border=\"1\" class=\"dataframe\">\n",
       "  <thead>\n",
       "    <tr style=\"text-align: right;\">\n",
       "      <th></th>\n",
       "      <th>age</th>\n",
       "    </tr>\n",
       "  </thead>\n",
       "  <tbody>\n",
       "    <tr>\n",
       "      <th>count</th>\n",
       "      <td>628998.000000</td>\n",
       "    </tr>\n",
       "    <tr>\n",
       "      <th>mean</th>\n",
       "      <td>38.361852</td>\n",
       "    </tr>\n",
       "    <tr>\n",
       "      <th>std</th>\n",
       "      <td>19.203991</td>\n",
       "    </tr>\n",
       "    <tr>\n",
       "      <th>min</th>\n",
       "      <td>0.000000</td>\n",
       "    </tr>\n",
       "    <tr>\n",
       "      <th>25%</th>\n",
       "      <td>23.000000</td>\n",
       "    </tr>\n",
       "    <tr>\n",
       "      <th>50%</th>\n",
       "      <td>36.000000</td>\n",
       "    </tr>\n",
       "    <tr>\n",
       "      <th>75%</th>\n",
       "      <td>53.000000</td>\n",
       "    </tr>\n",
       "    <tr>\n",
       "      <th>max</th>\n",
       "      <td>95.000000</td>\n",
       "    </tr>\n",
       "  </tbody>\n",
       "</table>\n",
       "</div>"
      ],
      "text/plain": [
       "                 age\n",
       "count  628998.000000\n",
       "mean       38.361852\n",
       "std        19.203991\n",
       "min         0.000000\n",
       "25%        23.000000\n",
       "50%        36.000000\n",
       "75%        53.000000\n",
       "max        95.000000"
      ]
     },
     "execution_count": 32,
     "metadata": {},
     "output_type": "execute_result"
    }
   ],
   "source": [
    "ind.describe()"
   ]
  },
  {
   "cell_type": "markdown",
   "metadata": {},
   "source": [
    "#### Checking for Null Values"
   ]
  },
  {
   "cell_type": "code",
   "execution_count": 33,
   "metadata": {},
   "outputs": [
    {
     "data": {
      "text/plain": [
       "ind_id            0\n",
       "veh_id            0\n",
       "seating           0\n",
       "sex               0\n",
       "age               0\n",
       "airbag            0\n",
       "seatbelt          0\n",
       "lapbelt_only      0\n",
       "childrestraint    0\n",
       "injured           0\n",
       "dtype: int64"
      ]
     },
     "execution_count": 33,
     "metadata": {},
     "output_type": "execute_result"
    }
   ],
   "source": [
    "ind.isna().sum()"
   ]
  },
  {
   "cell_type": "markdown",
   "metadata": {},
   "source": [
    "#### Number of Unique Values"
   ]
  },
  {
   "cell_type": "code",
   "execution_count": 34,
   "metadata": {},
   "outputs": [
    {
     "data": {
      "text/plain": [
       "['ind_id: 628998',\n",
       " 'veh_id: 461547',\n",
       " 'seating: 7',\n",
       " 'sex: 2',\n",
       " 'age: 96',\n",
       " 'airbag: 2',\n",
       " 'seatbelt: 2',\n",
       " 'lapbelt_only: 2',\n",
       " 'childrestraint: 2',\n",
       " 'injured: 2']"
      ]
     },
     "execution_count": 34,
     "metadata": {},
     "output_type": "execute_result"
    }
   ],
   "source": [
    "[f'{c}: {ind[c].nunique()}' for c in ind.columns]"
   ]
  },
  {
   "cell_type": "markdown",
   "metadata": {},
   "source": [
    "#### Column Values"
   ]
  },
  {
   "cell_type": "code",
   "execution_count": 35,
   "metadata": {},
   "outputs": [
    {
     "name": "stdout",
     "output_type": "stream",
     "text": [
      "IND_ID\n",
      "\n"
     ]
    },
    {
     "data": {
      "text/plain": [
       "17475364    1\n",
       "17475365    1\n",
       "17475366    1\n",
       "17475367    1\n",
       "17475510    1\n",
       "           ..\n",
       "19504241    1\n",
       "19505118    1\n",
       "19505119    1\n",
       "19505120    1\n",
       "19508301    1\n",
       "Name: ind_id, Length: 628998, dtype: int64"
      ]
     },
     "metadata": {},
     "output_type": "display_data"
    },
    {
     "name": "stdout",
     "output_type": "stream",
     "text": [
      "None\n"
     ]
    },
    {
     "data": {
      "image/png": "[encoded data removed]",
      "text/plain": [
       "<Figure size 432x288 with 1 Axes>"
      ]
     },
     "metadata": {
      "needs_background": "light"
     },
     "output_type": "display_data"
    },
    {
     "name": "stdout",
     "output_type": "stream",
     "text": [
      "\n",
      "**************************************************\n",
      "\n",
      "VEH_ID\n",
      "\n"
     ]
    },
    {
     "data": {
      "text/plain": [
       "13364180    2\n",
       "13364181    1\n",
       "13364182    1\n",
       "13364283    1\n",
       "13364291    1\n",
       "           ..\n",
       "14866398    1\n",
       "14866399    1\n",
       "14867164    1\n",
       "14867165    2\n",
       "14869334    1\n",
       "Name: veh_id, Length: 461547, dtype: int64"
      ]
     },
     "metadata": {},
     "output_type": "display_data"
    },
    {
     "name": "stdout",
     "output_type": "stream",
     "text": [
      "None\n"
     ]
    },
    {
     "data": {
      "image/png": "[encoded data removed]",
      "text/plain": [
       "<Figure size 432x288 with 1 Axes>"
      ]
     },
     "metadata": {
      "needs_background": "light"
     },
     "output_type": "display_data"
    },
    {
     "name": "stdout",
     "output_type": "stream",
     "text": [
      "\n",
      "**************************************************\n",
      "\n",
      "SEATING\n",
      "\n"
     ]
    },
    {
     "data": {
      "text/plain": [
       "driver             459942\n",
       "pass_backcargo      13568\n",
       "pass_backleft       25852\n",
       "pass_backmid         8544\n",
       "pass_backright      31531\n",
       "pass_frontmid        3771\n",
       "pass_frontright     85790\n",
       "Name: seating, dtype: int64"
      ]
     },
     "metadata": {},
     "output_type": "display_data"
    },
    {
     "name": "stdout",
     "output_type": "stream",
     "text": [
      "None\n"
     ]
    },
    {
     "data": {
      "image/png": "[encoded data removed]",
      "text/plain": [
       "<Figure size 432x288 with 1 Axes>"
      ]
     },
     "metadata": {
      "needs_background": "light"
     },
     "output_type": "display_data"
    },
    {
     "name": "stdout",
     "output_type": "stream",
     "text": [
      "\n",
      "**************************************************\n",
      "\n",
      "SEX\n",
      "\n"
     ]
    },
    {
     "data": {
      "text/plain": [
       "f    276909\n",
       "m    352089\n",
       "Name: sex, dtype: int64"
      ]
     },
     "metadata": {},
     "output_type": "display_data"
    },
    {
     "name": "stdout",
     "output_type": "stream",
     "text": [
      "None\n"
     ]
    },
    {
     "data": {
      "image/png": "[encoded data removed]",
      "text/plain": [
       "<Figure size 432x288 with 1 Axes>"
      ]
     },
     "metadata": {
      "needs_background": "light"
     },
     "output_type": "display_data"
    },
    {
     "name": "stdout",
     "output_type": "stream",
     "text": [
      "\n",
      "**************************************************\n",
      "\n",
      "AGE\n",
      "\n"
     ]
    },
    {
     "data": {
      "text/plain": [
       "0     2037\n",
       "1     3651\n",
       "2     3274\n",
       "3     3216\n",
       "4     3294\n",
       "      ... \n",
       "91     360\n",
       "92     280\n",
       "93     172\n",
       "94     154\n",
       "95      96\n",
       "Name: age, Length: 96, dtype: int64"
      ]
     },
     "metadata": {},
     "output_type": "display_data"
    },
    {
     "name": "stdout",
     "output_type": "stream",
     "text": [
      "None\n"
     ]
    },
    {
     "data": {
      "image/png": "[encoded data removed]",
      "text/plain": [
       "<Figure size 432x288 with 1 Axes>"
      ]
     },
     "metadata": {
      "needs_background": "light"
     },
     "output_type": "display_data"
    },
    {
     "name": "stdout",
     "output_type": "stream",
     "text": [
      "\n",
      "**************************************************\n",
      "\n",
      "AIRBAG\n",
      "\n"
     ]
    },
    {
     "data": {
      "text/plain": [
       "False    593608\n",
       "True      35390\n",
       "Name: airbag, dtype: int64"
      ]
     },
     "metadata": {},
     "output_type": "display_data"
    },
    {
     "name": "stdout",
     "output_type": "stream",
     "text": [
      "None\n"
     ]
    },
    {
     "data": {
      "image/png": "[encoded data removed]",
      "text/plain": [
       "<Figure size 432x288 with 1 Axes>"
      ]
     },
     "metadata": {
      "needs_background": "light"
     },
     "output_type": "display_data"
    },
    {
     "name": "stdout",
     "output_type": "stream",
     "text": [
      "\n",
      "**************************************************\n",
      "\n",
      "SEATBELT\n",
      "\n"
     ]
    },
    {
     "data": {
      "text/plain": [
       "False    123111\n",
       "True     505887\n",
       "Name: seatbelt, dtype: int64"
      ]
     },
     "metadata": {},
     "output_type": "display_data"
    },
    {
     "name": "stdout",
     "output_type": "stream",
     "text": [
      "None\n"
     ]
    },
    {
     "data": {
      "image/png": "[encoded data removed]",
      "text/plain": [
       "<Figure size 432x288 with 1 Axes>"
      ]
     },
     "metadata": {
      "needs_background": "light"
     },
     "output_type": "display_data"
    },
    {
     "name": "stdout",
     "output_type": "stream",
     "text": [
      "\n",
      "**************************************************\n",
      "\n",
      "LAPBELT_ONLY\n",
      "\n"
     ]
    },
    {
     "data": {
      "text/plain": [
       "False    598271\n",
       "True      30727\n",
       "Name: lapbelt_only, dtype: int64"
      ]
     },
     "metadata": {},
     "output_type": "display_data"
    },
    {
     "name": "stdout",
     "output_type": "stream",
     "text": [
      "None\n"
     ]
    },
    {
     "data": {
      "image/png": "[encoded data removed]",
      "text/plain": [
       "<Figure size 432x288 with 1 Axes>"
      ]
     },
     "metadata": {
      "needs_background": "light"
     },
     "output_type": "display_data"
    },
    {
     "name": "stdout",
     "output_type": "stream",
     "text": [
      "\n",
      "**************************************************\n",
      "\n",
      "CHILDRESTRAINT\n",
      "\n"
     ]
    },
    {
     "data": {
      "text/plain": [
       "False    611415\n",
       "True      17583\n",
       "Name: childrestraint, dtype: int64"
      ]
     },
     "metadata": {},
     "output_type": "display_data"
    },
    {
     "name": "stdout",
     "output_type": "stream",
     "text": [
      "None\n"
     ]
    },
    {
     "data": {
      "image/png": "[encoded data removed]",
      "text/plain": [
       "<Figure size 432x288 with 1 Axes>"
      ]
     },
     "metadata": {
      "needs_background": "light"
     },
     "output_type": "display_data"
    },
    {
     "name": "stdout",
     "output_type": "stream",
     "text": [
      "\n",
      "**************************************************\n",
      "\n",
      "INJURED\n",
      "\n"
     ]
    },
    {
     "data": {
      "text/plain": [
       "False    484669\n",
       "True     144329\n",
       "Name: injured, dtype: int64"
      ]
     },
     "metadata": {},
     "output_type": "display_data"
    },
    {
     "name": "stdout",
     "output_type": "stream",
     "text": [
      "None\n"
     ]
    },
    {
     "data": {
      "image/png": "[encoded data removed]",
      "text/plain": [
       "<Figure size 432x288 with 1 Axes>"
      ]
     },
     "metadata": {
      "needs_background": "light"
     },
     "output_type": "display_data"
    },
    {
     "name": "stdout",
     "output_type": "stream",
     "text": [
      "\n",
      "**************************************************\n",
      "\n"
     ]
    }
   ],
   "source": [
    "for i in ind.columns:\n",
    "    print(i.upper())\n",
    "    print()\n",
    "    print(view(ind[i].value_counts().sort_index(),5))\n",
    "    ind[i].value_counts().head(20).plot(kind='barh')\n",
    "    plt.show()\n",
    "    print()\n",
    "    print('*'*50)\n",
    "    print()"
   ]
  },
  {
   "cell_type": "markdown",
   "metadata": {},
   "source": [
    "## Exporting Dataframe"
   ]
  },
  {
   "cell_type": "code",
   "execution_count": 36,
   "metadata": {},
   "outputs": [],
   "source": [
    "ind.to_csv(r'individuals.csv')"
   ]
  },
  {
   "cell_type": "code",
   "execution_count": null,
   "metadata": {},
   "outputs": [],
   "source": []
  }
 ],
 "metadata": {
  "kernelspec": {
   "display_name": "learn-env",
   "language": "python",
   "name": "learn-env"
  },
  "language_info": {
   "codemirror_mode": {
    "name": "ipython",
    "version": 3
   },
   "file_extension": ".py",
   "mimetype": "text/x-python",
   "name": "python",
   "nbconvert_exporter": "python",
   "pygments_lexer": "ipython3",
   "version": "3.7.3"
  },
  "toc": {
   "base_numbering": 1,
   "nav_menu": {},
   "number_sections": false,
   "sideBar": true,
   "skip_h1_title": false,
   "title_cell": "Table of Contents",
   "title_sidebar": "Contents",
   "toc_cell": false,
   "toc_position": {},
   "toc_section_display": true,
   "toc_window_display": true
  },
  "toc-showtags": false,
  "varInspector": {
   "cols": {
    "lenName": 16,
    "lenType": 16,
    "lenVar": 40
   },
   "kernels_config": {
    "python": {
     "delete_cmd_postfix": "",
     "delete_cmd_prefix": "del ",
     "library": "var_list.py",
     "varRefreshCmd": "print(var_dic_list())"
    },
    "r": {
     "delete_cmd_postfix": ") ",
     "delete_cmd_prefix": "rm(",
     "library": "var_list.r",
     "varRefreshCmd": "cat(var_dic_list()) "
    }
   },
   "types_to_exclude": [
    "module",
    "function",
    "builtin_function_or_method",
    "instance",
    "_Feature"
   ],
   "window_display": false
  }
 },
 "nbformat": 4,
 "nbformat_minor": 2
}
