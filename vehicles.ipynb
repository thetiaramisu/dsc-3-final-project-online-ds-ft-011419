{
 "cells": [
  {
   "cell_type": "markdown",
   "metadata": {},
   "source": [
    "## Libraries"
   ]
  },
  {
   "cell_type": "code",
   "execution_count": 1,
   "metadata": {},
   "outputs": [],
   "source": [
    "import pandas as pd\n",
    "import numpy as np \n",
    "\n",
    "import matplotlib.pyplot as plt\n",
    "%matplotlib inline\n",
    "import seaborn as sns\n",
    "\n",
    "import copy\n",
    "\n",
    "pd.set_option('display.max_columns', None) # Displays all columns\n",
    "\n",
    "import warnings\n",
    "warnings.filterwarnings('ignore')"
   ]
  },
  {
   "cell_type": "code",
   "execution_count": 2,
   "metadata": {},
   "outputs": [],
   "source": [
    "# Function for previews\n",
    "\n",
    "def view(df,n):\n",
    "    with pd.option_context('display.max_rows',n*2):\n",
    "        display(df)"
   ]
  },
  {
   "cell_type": "markdown",
   "metadata": {},
   "source": [
    "## Vehicles in Crashes\n",
    "\n",
    "https://data.ny.gov/Transportation/Motor-Vehicle-Crashes-Vehicle-Information-Three-Ye/xe9x-a24f"
   ]
  },
  {
   "cell_type": "markdown",
   "metadata": {},
   "source": [
    "#### Preview"
   ]
  },
  {
   "cell_type": "code",
   "execution_count": 3,
   "metadata": {},
   "outputs": [
    {
     "data": {
      "text/html": [
       "<div>\n",
       "<style scoped>\n",
       "    .dataframe tbody tr th:only-of-type {\n",
       "        vertical-align: middle;\n",
       "    }\n",
       "\n",
       "    .dataframe tbody tr th {\n",
       "        vertical-align: top;\n",
       "    }\n",
       "\n",
       "    .dataframe thead th {\n",
       "        text-align: right;\n",
       "    }\n",
       "</style>\n",
       "<table border=\"1\" class=\"dataframe\">\n",
       "  <thead>\n",
       "    <tr style=\"text-align: right;\">\n",
       "      <th></th>\n",
       "      <th>Year</th>\n",
       "      <th>Case Vehicle ID</th>\n",
       "      <th>Vehicle Body Type</th>\n",
       "      <th>Registration Class</th>\n",
       "      <th>Action Prior to Accident</th>\n",
       "      <th>Type / Axles of Truck or Bus</th>\n",
       "      <th>Direction of Travel</th>\n",
       "      <th>Fuel Type</th>\n",
       "      <th>Vehicle Year</th>\n",
       "      <th>State of Registration</th>\n",
       "      <th>Number of Occupants</th>\n",
       "      <th>Engine Cylinders</th>\n",
       "      <th>Vehicle Make</th>\n",
       "      <th>Contributing Factor 1</th>\n",
       "      <th>Contributing Factor 1 Description</th>\n",
       "      <th>Contributing Factor 2</th>\n",
       "      <th>Contributing Factor 2 Description</th>\n",
       "      <th>Event Type</th>\n",
       "      <th>Partial VIN</th>\n",
       "    </tr>\n",
       "  </thead>\n",
       "  <tbody>\n",
       "    <tr>\n",
       "      <th>0</th>\n",
       "      <td>2016</td>\n",
       "      <td>13364180</td>\n",
       "      <td>SUBURBAN</td>\n",
       "      <td>PASSENGER OR SUBURBAN</td>\n",
       "      <td>Going Straight Ahead</td>\n",
       "      <td>Not Entered</td>\n",
       "      <td>East</td>\n",
       "      <td>Gas</td>\n",
       "      <td>2015.0</td>\n",
       "      <td>NY</td>\n",
       "      <td>2.0</td>\n",
       "      <td>4.0</td>\n",
       "      <td>NISSA</td>\n",
       "      <td>HUMAN</td>\n",
       "      <td>Fell Asleep</td>\n",
       "      <td>HUMAN</td>\n",
       "      <td>Unknown</td>\n",
       "      <td>Not Applicable</td>\n",
       "      <td>KNMAT2MV1FP544486</td>\n",
       "    </tr>\n",
       "    <tr>\n",
       "      <th>1</th>\n",
       "      <td>2016</td>\n",
       "      <td>13364181</td>\n",
       "      <td>4 DOOR SEDAN</td>\n",
       "      <td>PASSENGER OR SUBURBAN</td>\n",
       "      <td>Merging</td>\n",
       "      <td>Not Entered</td>\n",
       "      <td>South</td>\n",
       "      <td>Gas</td>\n",
       "      <td>2007.0</td>\n",
       "      <td>NY</td>\n",
       "      <td>1.0</td>\n",
       "      <td>4.0</td>\n",
       "      <td>HYUND</td>\n",
       "      <td>HUMAN</td>\n",
       "      <td>Alcohol Involvement</td>\n",
       "      <td>HUMAN</td>\n",
       "      <td>Not Applicable</td>\n",
       "      <td>Not Entered</td>\n",
       "      <td>5NPET46C87H227617</td>\n",
       "    </tr>\n",
       "    <tr>\n",
       "      <th>2</th>\n",
       "      <td>2016</td>\n",
       "      <td>13364182</td>\n",
       "      <td>4 DOOR SEDAN</td>\n",
       "      <td>PASSENGER OR SUBURBAN</td>\n",
       "      <td>Going Straight Ahead</td>\n",
       "      <td>Not Entered</td>\n",
       "      <td>South</td>\n",
       "      <td>Gas</td>\n",
       "      <td>2009.0</td>\n",
       "      <td>NY</td>\n",
       "      <td>1.0</td>\n",
       "      <td>4.0</td>\n",
       "      <td>HONDA</td>\n",
       "      <td>HUMAN</td>\n",
       "      <td>Not Applicable</td>\n",
       "      <td>HUMAN</td>\n",
       "      <td>Not Applicable</td>\n",
       "      <td>Not Entered</td>\n",
       "      <td>1HGCP26379A133398</td>\n",
       "    </tr>\n",
       "    <tr>\n",
       "      <th>...</th>\n",
       "      <td>...</td>\n",
       "      <td>...</td>\n",
       "      <td>...</td>\n",
       "      <td>...</td>\n",
       "      <td>...</td>\n",
       "      <td>...</td>\n",
       "      <td>...</td>\n",
       "      <td>...</td>\n",
       "      <td>...</td>\n",
       "      <td>...</td>\n",
       "      <td>...</td>\n",
       "      <td>...</td>\n",
       "      <td>...</td>\n",
       "      <td>...</td>\n",
       "      <td>...</td>\n",
       "      <td>...</td>\n",
       "      <td>...</td>\n",
       "      <td>...</td>\n",
       "      <td>...</td>\n",
       "    </tr>\n",
       "    <tr>\n",
       "      <th>560604</th>\n",
       "      <td>2016</td>\n",
       "      <td>14867165</td>\n",
       "      <td>SUBURBAN</td>\n",
       "      <td>PASSENGER OR SUBURBAN</td>\n",
       "      <td>Stopped in Traffic</td>\n",
       "      <td>Not Entered</td>\n",
       "      <td>South</td>\n",
       "      <td>Gas</td>\n",
       "      <td>2014.0</td>\n",
       "      <td>NY</td>\n",
       "      <td>2.0</td>\n",
       "      <td>4.0</td>\n",
       "      <td>FORD</td>\n",
       "      <td>HUMAN</td>\n",
       "      <td>Not Applicable</td>\n",
       "      <td>HUMAN</td>\n",
       "      <td>Not Applicable</td>\n",
       "      <td>Not Applicable</td>\n",
       "      <td>1FMCU9GX3EUA49584</td>\n",
       "    </tr>\n",
       "    <tr>\n",
       "      <th>560605</th>\n",
       "      <td>2016</td>\n",
       "      <td>14869240</td>\n",
       "      <td>UNKNOWN VEHICLE</td>\n",
       "      <td>Not Entered</td>\n",
       "      <td>Unknown</td>\n",
       "      <td>Not Entered</td>\n",
       "      <td>Unknown</td>\n",
       "      <td>Not Entered</td>\n",
       "      <td>NaN</td>\n",
       "      <td>NaN</td>\n",
       "      <td>NaN</td>\n",
       "      <td>NaN</td>\n",
       "      <td>NaN</td>\n",
       "      <td>HUMAN</td>\n",
       "      <td>Not Entered</td>\n",
       "      <td>HUMAN</td>\n",
       "      <td>Not Entered</td>\n",
       "      <td>Not Entered</td>\n",
       "      <td>NaN</td>\n",
       "    </tr>\n",
       "    <tr>\n",
       "      <th>560606</th>\n",
       "      <td>2016</td>\n",
       "      <td>14869334</td>\n",
       "      <td>UNKNOWN VEHICLE</td>\n",
       "      <td>Not Entered</td>\n",
       "      <td>Going Straight Ahead</td>\n",
       "      <td>Not Entered</td>\n",
       "      <td>East</td>\n",
       "      <td>Not Entered</td>\n",
       "      <td>NaN</td>\n",
       "      <td>NY</td>\n",
       "      <td>1.0</td>\n",
       "      <td>NaN</td>\n",
       "      <td>NaN</td>\n",
       "      <td>HUMAN</td>\n",
       "      <td>Not Entered</td>\n",
       "      <td>HUMAN</td>\n",
       "      <td>Not Entered</td>\n",
       "      <td>Overturned, Non-Collision</td>\n",
       "      <td>NaN</td>\n",
       "    </tr>\n",
       "  </tbody>\n",
       "</table>\n",
       "<p>560607 rows × 19 columns</p>\n",
       "</div>"
      ],
      "text/plain": [
       "        Year  Case Vehicle ID Vehicle Body Type     Registration Class  \\\n",
       "0       2016         13364180          SUBURBAN  PASSENGER OR SUBURBAN   \n",
       "1       2016         13364181      4 DOOR SEDAN  PASSENGER OR SUBURBAN   \n",
       "2       2016         13364182      4 DOOR SEDAN  PASSENGER OR SUBURBAN   \n",
       "...      ...              ...               ...                    ...   \n",
       "560604  2016         14867165          SUBURBAN  PASSENGER OR SUBURBAN   \n",
       "560605  2016         14869240   UNKNOWN VEHICLE            Not Entered   \n",
       "560606  2016         14869334   UNKNOWN VEHICLE            Not Entered   \n",
       "\n",
       "       Action Prior to Accident Type / Axles of Truck or Bus  \\\n",
       "0          Going Straight Ahead                  Not Entered   \n",
       "1                       Merging                  Not Entered   \n",
       "2          Going Straight Ahead                  Not Entered   \n",
       "...                         ...                          ...   \n",
       "560604       Stopped in Traffic                  Not Entered   \n",
       "560605                  Unknown                  Not Entered   \n",
       "560606     Going Straight Ahead                  Not Entered   \n",
       "\n",
       "       Direction of Travel    Fuel Type  Vehicle Year State of Registration  \\\n",
       "0                     East          Gas        2015.0                    NY   \n",
       "1                    South          Gas        2007.0                    NY   \n",
       "2                    South          Gas        2009.0                    NY   \n",
       "...                    ...          ...           ...                   ...   \n",
       "560604               South          Gas        2014.0                    NY   \n",
       "560605             Unknown  Not Entered           NaN                   NaN   \n",
       "560606                East  Not Entered           NaN                    NY   \n",
       "\n",
       "        Number of Occupants  Engine Cylinders Vehicle Make  \\\n",
       "0                       2.0               4.0        NISSA   \n",
       "1                       1.0               4.0        HYUND   \n",
       "2                       1.0               4.0        HONDA   \n",
       "...                     ...               ...          ...   \n",
       "560604                  2.0               4.0         FORD   \n",
       "560605                  NaN               NaN          NaN   \n",
       "560606                  1.0               NaN          NaN   \n",
       "\n",
       "       Contributing Factor 1 Contributing Factor 1 Description  \\\n",
       "0                      HUMAN                       Fell Asleep   \n",
       "1                      HUMAN               Alcohol Involvement   \n",
       "2                      HUMAN                    Not Applicable   \n",
       "...                      ...                               ...   \n",
       "560604                 HUMAN                    Not Applicable   \n",
       "560605                 HUMAN                       Not Entered   \n",
       "560606                 HUMAN                       Not Entered   \n",
       "\n",
       "       Contributing Factor 2 Contributing Factor 2 Description  \\\n",
       "0                      HUMAN                           Unknown   \n",
       "1                      HUMAN                    Not Applicable   \n",
       "2                      HUMAN                    Not Applicable   \n",
       "...                      ...                               ...   \n",
       "560604                 HUMAN                    Not Applicable   \n",
       "560605                 HUMAN                       Not Entered   \n",
       "560606                 HUMAN                       Not Entered   \n",
       "\n",
       "                       Event Type        Partial VIN  \n",
       "0                  Not Applicable  KNMAT2MV1FP544486  \n",
       "1                     Not Entered  5NPET46C87H227617  \n",
       "2                     Not Entered  1HGCP26379A133398  \n",
       "...                           ...                ...  \n",
       "560604             Not Applicable  1FMCU9GX3EUA49584  \n",
       "560605                Not Entered                NaN  \n",
       "560606  Overturned, Non-Collision                NaN  \n",
       "\n",
       "[560607 rows x 19 columns]"
      ]
     },
     "metadata": {},
     "output_type": "display_data"
    }
   ],
   "source": [
    "veh = pd.read_csv('Motor_Vehicle_Crashes_-_Vehicle_Information__Three_Year_Window.csv')\n",
    "veh = veh[veh['Year']==2016]\n",
    "view(veh,3)"
   ]
  },
  {
   "cell_type": "markdown",
   "metadata": {},
   "source": [
    "#### Column Descriptions\n",
    "\n",
    "From the Data Dictionary for NYS Crash Vehicle Dataset\n",
    "\n",
    "* **Year:** Calendar year of incident.\n",
    "* **Case Vehicle ID:** ID assigned to the vehicle in the crash case. This is strictly a database key and not an identifier such as a VIN.\n",
    "* **Vehicle Body Type:** Type of vehicle.\n",
    "* **Registration Class:** Type of registration class assigned to vehicle.\n",
    "* **Action Prior to Accident:** Action of vehicle just prior to crash, if known and applicable.\n",
    "* **Type / Axles of Truck or Bus:** Vehicle type and number of axles for truck or bus, if known and applicable.\n",
    "* **Direction of Travel:** Direction the vehicle was traveling at time of crash, if known and applicable.\n",
    "* **Fuel Type:** Type of fuel vehicles uses.\n",
    "* **Vehicle Year:** Manufacturer’s model year of vehicle.\n",
    "* **State of Registration:** State in which the vehicle was registered.\n",
    "* **Number of Occupants:** Number of occupants in vehicle at time of crash.\n",
    "* **Engine Cylinders:** Number of cylinders the vehicle has.\n",
    "* **Vehicle Make:** Make of vehicle.\n",
    "* **Contributing Factor 1:** Category of contributing factor. Possible entries are:\n",
    "    * ENVMT – Environment\n",
    "    * HUMAN\n",
    "    * VEHICLE\n",
    "    * N/A – Not Applicable\n",
    "* **Contributing Factor 1 Description:** Description of first, listed factor contributing to the crash. IMPORTANT: Do not assume that the number of times the police note \"alcohol involvement\" or \"unsafe speed\" as apparent contributing factors is the number of alcohol-related or speed-related crashes that occurred in the state. It is only the number of times it was noted on the report.\n",
    "* **Contributing Factor 2:** See Contributing Factor 1.\n",
    "* **Contributing Factor 2 Description:** Description of second, listed factor contributing to the crash.\n",
    "* **Event Type:** Description of event that occurred\n",
    "* **Partial VIN:** Left 11 positions of the Vehicle Identification Number"
   ]
  },
  {
   "cell_type": "markdown",
   "metadata": {},
   "source": [
    "#### Info"
   ]
  },
  {
   "cell_type": "code",
   "execution_count": 4,
   "metadata": {},
   "outputs": [
    {
     "name": "stdout",
     "output_type": "stream",
     "text": [
      "<class 'pandas.core.frame.DataFrame'>\n",
      "Int64Index: 560607 entries, 0 to 560606\n",
      "Data columns (total 19 columns):\n",
      "Year                                 560607 non-null int64\n",
      "Case Vehicle ID                      560607 non-null int64\n",
      "Vehicle Body Type                    560607 non-null object\n",
      "Registration Class                   560607 non-null object\n",
      "Action Prior to Accident             560607 non-null object\n",
      "Type / Axles of Truck or Bus         560607 non-null object\n",
      "Direction of Travel                  560607 non-null object\n",
      "Fuel Type                            560607 non-null object\n",
      "Vehicle Year                         473082 non-null float64\n",
      "State of Registration                515012 non-null object\n",
      "Number of Occupants                  510656 non-null float64\n",
      "Engine Cylinders                     442430 non-null float64\n",
      "Vehicle Make                         473601 non-null object\n",
      "Contributing Factor 1                560602 non-null object\n",
      "Contributing Factor 1 Description    560602 non-null object\n",
      "Contributing Factor 2                560602 non-null object\n",
      "Contributing Factor 2 Description    560602 non-null object\n",
      "Event Type                           548847 non-null object\n",
      "Partial VIN                          459977 non-null object\n",
      "dtypes: float64(3), int64(2), object(14)\n",
      "memory usage: 85.5+ MB\n"
     ]
    }
   ],
   "source": [
    "veh.info()"
   ]
  },
  {
   "cell_type": "markdown",
   "metadata": {},
   "source": [
    "#### Describe"
   ]
  },
  {
   "cell_type": "code",
   "execution_count": 5,
   "metadata": {},
   "outputs": [
    {
     "data": {
      "text/html": [
       "<div>\n",
       "<style scoped>\n",
       "    .dataframe tbody tr th:only-of-type {\n",
       "        vertical-align: middle;\n",
       "    }\n",
       "\n",
       "    .dataframe tbody tr th {\n",
       "        vertical-align: top;\n",
       "    }\n",
       "\n",
       "    .dataframe thead th {\n",
       "        text-align: right;\n",
       "    }\n",
       "</style>\n",
       "<table border=\"1\" class=\"dataframe\">\n",
       "  <thead>\n",
       "    <tr style=\"text-align: right;\">\n",
       "      <th></th>\n",
       "      <th>Year</th>\n",
       "      <th>Case Vehicle ID</th>\n",
       "      <th>Vehicle Year</th>\n",
       "      <th>Number of Occupants</th>\n",
       "      <th>Engine Cylinders</th>\n",
       "    </tr>\n",
       "  </thead>\n",
       "  <tbody>\n",
       "    <tr>\n",
       "      <th>count</th>\n",
       "      <td>560607.0</td>\n",
       "      <td>5.606070e+05</td>\n",
       "      <td>473082.000000</td>\n",
       "      <td>510656.000000</td>\n",
       "      <td>442430.000000</td>\n",
       "    </tr>\n",
       "    <tr>\n",
       "      <th>mean</th>\n",
       "      <td>2016.0</td>\n",
       "      <td>1.387770e+07</td>\n",
       "      <td>2008.711665</td>\n",
       "      <td>1.358372</td>\n",
       "      <td>5.248559</td>\n",
       "    </tr>\n",
       "    <tr>\n",
       "      <th>std</th>\n",
       "      <td>0.0</td>\n",
       "      <td>2.664452e+05</td>\n",
       "      <td>5.785466</td>\n",
       "      <td>1.909753</td>\n",
       "      <td>1.445081</td>\n",
       "    </tr>\n",
       "    <tr>\n",
       "      <th>min</th>\n",
       "      <td>2016.0</td>\n",
       "      <td>1.336418e+07</td>\n",
       "      <td>1900.000000</td>\n",
       "      <td>0.000000</td>\n",
       "      <td>0.000000</td>\n",
       "    </tr>\n",
       "    <tr>\n",
       "      <th>25%</th>\n",
       "      <td>2016.0</td>\n",
       "      <td>1.366128e+07</td>\n",
       "      <td>2005.000000</td>\n",
       "      <td>1.000000</td>\n",
       "      <td>4.000000</td>\n",
       "    </tr>\n",
       "    <tr>\n",
       "      <th>50%</th>\n",
       "      <td>2016.0</td>\n",
       "      <td>1.387789e+07</td>\n",
       "      <td>2010.000000</td>\n",
       "      <td>1.000000</td>\n",
       "      <td>6.000000</td>\n",
       "    </tr>\n",
       "    <tr>\n",
       "      <th>75%</th>\n",
       "      <td>2016.0</td>\n",
       "      <td>1.410165e+07</td>\n",
       "      <td>2014.000000</td>\n",
       "      <td>1.000000</td>\n",
       "      <td>6.000000</td>\n",
       "    </tr>\n",
       "    <tr>\n",
       "      <th>max</th>\n",
       "      <td>2016.0</td>\n",
       "      <td>1.486933e+07</td>\n",
       "      <td>2017.000000</td>\n",
       "      <td>881.000000</td>\n",
       "      <td>12.000000</td>\n",
       "    </tr>\n",
       "  </tbody>\n",
       "</table>\n",
       "</div>"
      ],
      "text/plain": [
       "           Year  Case Vehicle ID   Vehicle Year  Number of Occupants  \\\n",
       "count  560607.0     5.606070e+05  473082.000000        510656.000000   \n",
       "mean     2016.0     1.387770e+07    2008.711665             1.358372   \n",
       "std         0.0     2.664452e+05       5.785466             1.909753   \n",
       "min      2016.0     1.336418e+07    1900.000000             0.000000   \n",
       "25%      2016.0     1.366128e+07    2005.000000             1.000000   \n",
       "50%      2016.0     1.387789e+07    2010.000000             1.000000   \n",
       "75%      2016.0     1.410165e+07    2014.000000             1.000000   \n",
       "max      2016.0     1.486933e+07    2017.000000           881.000000   \n",
       "\n",
       "       Engine Cylinders  \n",
       "count     442430.000000  \n",
       "mean           5.248559  \n",
       "std            1.445081  \n",
       "min            0.000000  \n",
       "25%            4.000000  \n",
       "50%            6.000000  \n",
       "75%            6.000000  \n",
       "max           12.000000  "
      ]
     },
     "execution_count": 5,
     "metadata": {},
     "output_type": "execute_result"
    }
   ],
   "source": [
    "veh.describe()"
   ]
  },
  {
   "cell_type": "markdown",
   "metadata": {},
   "source": [
    "#### Column Values"
   ]
  },
  {
   "cell_type": "code",
   "execution_count": 6,
   "metadata": {},
   "outputs": [
    {
     "name": "stdout",
     "output_type": "stream",
     "text": [
      "YEAR\n",
      "\n"
     ]
    },
    {
     "data": {
      "text/plain": [
       "2016    560607\n",
       "Name: Year, dtype: int64"
      ]
     },
     "metadata": {},
     "output_type": "display_data"
    },
    {
     "name": "stdout",
     "output_type": "stream",
     "text": [
      "None\n"
     ]
    },
    {
     "data": {
      "image/png": "[encoded data removed]",
      "text/plain": [
       "<Figure size 432x288 with 1 Axes>"
      ]
     },
     "metadata": {
      "needs_background": "light"
     },
     "output_type": "display_data"
    },
    {
     "name": "stdout",
     "output_type": "stream",
     "text": [
      "\n",
      "**************************************************\n",
      "\n",
      "CASE VEHICLE ID\n",
      "\n"
     ]
    },
    {
     "data": {
      "text/plain": [
       "13364180    1\n",
       "13364181    1\n",
       "13364182    1\n",
       "13364283    1\n",
       "13364291    1\n",
       "           ..\n",
       "14867087    1\n",
       "14867164    1\n",
       "14867165    1\n",
       "14869240    1\n",
       "14869334    1\n",
       "Name: Case Vehicle ID, Length: 560607, dtype: int64"
      ]
     },
     "metadata": {},
     "output_type": "display_data"
    },
    {
     "name": "stdout",
     "output_type": "stream",
     "text": [
      "None\n"
     ]
    },
    {
     "data": {
      "image/png": "[encoded data removed]",
      "text/plain": [
       "<Figure size 432x288 with 1 Axes>"
      ]
     },
     "metadata": {
      "needs_background": "light"
     },
     "output_type": "display_data"
    },
    {
     "name": "stdout",
     "output_type": "stream",
     "text": [
      "\n",
      "**************************************************\n",
      "\n",
      "VEHICLE BODY TYPE\n",
      "\n"
     ]
    },
    {
     "data": {
      "text/plain": [
       "2 DOOR SEDAN            20376\n",
       "4 DOOR SEDAN           218569\n",
       "ALL TERRAIN VEHICLE        69\n",
       "AMBULANCE                 245\n",
       "BICYCLIST                6320\n",
       "                        ...  \n",
       "UNKNOWN VEHICLE         30796\n",
       "UTILITY                  1278\n",
       "VAN TRUCK                9847\n",
       "WELL DRILLER                1\n",
       "WELL SERVICING RIG          1\n",
       "Name: Vehicle Body Type, Length: 63, dtype: int64"
      ]
     },
     "metadata": {},
     "output_type": "display_data"
    },
    {
     "name": "stdout",
     "output_type": "stream",
     "text": [
      "None\n"
     ]
    },
    {
     "data": {
      "image/png": "[encoded data removed]",
      "text/plain": [
       "<Figure size 432x288 with 1 Axes>"
      ]
     },
     "metadata": {
      "needs_background": "light"
     },
     "output_type": "display_data"
    },
    {
     "name": "stdout",
     "output_type": "stream",
     "text": [
      "\n",
      "**************************************************\n",
      "\n",
      "REGISTRATION CLASS\n",
      "\n"
     ]
    },
    {
     "data": {
      "text/plain": [
       "AGRICULTURAL COMMERCIAL      171\n",
       "AGRICULTURAL TRUCK         10875\n",
       "AIR NATIONAL GUARD            10\n",
       "ALL TERRAIN VEHICLE           13\n",
       "AMBULANCE                    267\n",
       "                           ...  \n",
       "TRACTOR - REGULAR            517\n",
       "TRANSPORTER                   35\n",
       "U.S. CONGRESS                  1\n",
       "VAN POOL                       2\n",
       "VAS VOLUNTEER AMBULANCE       47\n",
       "Name: Registration Class, Length: 62, dtype: int64"
      ]
     },
     "metadata": {},
     "output_type": "display_data"
    },
    {
     "name": "stdout",
     "output_type": "stream",
     "text": [
      "None\n"
     ]
    },
    {
     "data": {
      "image/png": "[encoded data removed]",
      "text/plain": [
       "<Figure size 432x288 with 1 Axes>"
      ]
     },
     "metadata": {
      "needs_background": "light"
     },
     "output_type": "display_data"
    },
    {
     "name": "stdout",
     "output_type": "stream",
     "text": [
      "\n",
      "**************************************************\n",
      "\n",
      "ACTION PRIOR TO ACCIDENT\n",
      "\n"
     ]
    },
    {
     "data": {
      "text/plain": [
       "Avoiding Object in Roadway      1751\n",
       "Backing                        16289\n",
       "Changing Lanes                 12728\n",
       "Entering Parked Position        2440\n",
       "Going Straight Ahead          264234\n",
       "                               ...  \n",
       "Slowing or Stopping            40469\n",
       "Starting from Parking           3559\n",
       "Starting in Traffic             7834\n",
       "Stopped in Traffic             45335\n",
       "Unknown                        36098\n",
       "Name: Action Prior to Accident, Length: 22, dtype: int64"
      ]
     },
     "metadata": {},
     "output_type": "display_data"
    },
    {
     "name": "stdout",
     "output_type": "stream",
     "text": [
      "None\n"
     ]
    },
    {
     "data": {
      "image/png": "[encoded data removed]",
      "text/plain": [
       "<Figure size 432x288 with 1 Axes>"
      ]
     },
     "metadata": {
      "needs_background": "light"
     },
     "output_type": "display_data"
    },
    {
     "name": "stdout",
     "output_type": "stream",
     "text": [
      "\n",
      "**************************************************\n",
      "\n",
      "TYPE / AXLES OF TRUCK OR BUS\n",
      "\n"
     ]
    },
    {
     "data": {
      "text/plain": [
       "1 axle box trailer and 2 axle tractor              3\n",
       "1 axle tank trailer and 2 axle tractor             1\n",
       "2 axle box trailer and 2 axle tractor              1\n",
       "2 axle box trailer and 3 axle tractor              8\n",
       "2 axle platform trailer and 3 axle tractor         1\n",
       "                                               ...  \n",
       "3 axle single unit tank tuck                       1\n",
       "3 axle tank trailer and 3 axle tractor             1\n",
       "4 axle single unit box truck                       1\n",
       "4 axle single unit tank truck                      1\n",
       "Not Entered                                   560574\n",
       "Name: Type / Axles of Truck or Bus, Length: 14, dtype: int64"
      ]
     },
     "metadata": {},
     "output_type": "display_data"
    },
    {
     "name": "stdout",
     "output_type": "stream",
     "text": [
      "None\n"
     ]
    },
    {
     "data": {
      "image/png": "[encoded data removed]",
      "text/plain": [
       "<Figure size 432x288 with 1 Axes>"
      ]
     },
     "metadata": {
      "needs_background": "light"
     },
     "output_type": "display_data"
    },
    {
     "name": "stdout",
     "output_type": "stream",
     "text": [
      "\n",
      "**************************************************\n",
      "\n",
      "DIRECTION OF TRAVEL\n",
      "\n"
     ]
    },
    {
     "data": {
      "text/plain": [
       "East              115557\n",
       "North             111534\n",
       "Northeast          11778\n",
       "Northwest          11348\n",
       "Not Applicable     16760\n",
       "                   ...  \n",
       "South             109261\n",
       "Southeast          11160\n",
       "Southwest          11132\n",
       "Unknown            50117\n",
       "West              111956\n",
       "Name: Direction of Travel, Length: 11, dtype: int64"
      ]
     },
     "metadata": {},
     "output_type": "display_data"
    },
    {
     "name": "stdout",
     "output_type": "stream",
     "text": [
      "None\n"
     ]
    },
    {
     "data": {
      "image/png": "[encoded data removed]",
      "text/plain": [
       "<Figure size 432x288 with 1 Axes>"
      ]
     },
     "metadata": {
      "needs_background": "light"
     },
     "output_type": "display_data"
    },
    {
     "name": "stdout",
     "output_type": "stream",
     "text": [
      "\n",
      "**************************************************\n",
      "\n",
      "FUEL TYPE\n",
      "\n"
     ]
    },
    {
     "data": {
      "text/plain": [
       "Compressed Natural Gas       413\n",
       "Diesel                     16569\n",
       "Electric                     343\n",
       "Flex                         128\n",
       "Gas                       424310\n",
       "None                         636\n",
       "Not Entered               117856\n",
       "Other                         31\n",
       "Propane                       14\n",
       "Unknown                      307\n",
       "Name: Fuel Type, dtype: int64"
      ]
     },
     "metadata": {},
     "output_type": "display_data"
    },
    {
     "name": "stdout",
     "output_type": "stream",
     "text": [
      "None\n"
     ]
    },
    {
     "data": {
      "image/png": "[encoded data removed]",
      "text/plain": [
       "<Figure size 432x288 with 1 Axes>"
      ]
     },
     "metadata": {
      "needs_background": "light"
     },
     "output_type": "display_data"
    },
    {
     "name": "stdout",
     "output_type": "stream",
     "text": [
      "\n",
      "**************************************************\n",
      "\n",
      "VEHICLE YEAR\n",
      "\n"
     ]
    },
    {
     "data": {
      "text/plain": [
       "1900.0        5\n",
       "1901.0        2\n",
       "1906.0        1\n",
       "1911.0        1\n",
       "1914.0        1\n",
       "          ...  \n",
       "2013.0    34387\n",
       "2014.0    40645\n",
       "2015.0    48556\n",
       "2016.0    32393\n",
       "2017.0     2493\n",
       "Name: Vehicle Year, Length: 89, dtype: int64"
      ]
     },
     "metadata": {},
     "output_type": "display_data"
    },
    {
     "name": "stdout",
     "output_type": "stream",
     "text": [
      "None\n"
     ]
    },
    {
     "data": {
      "image/png": "[encoded data removed]",
      "text/plain": [
       "<Figure size 432x288 with 1 Axes>"
      ]
     },
     "metadata": {
      "needs_background": "light"
     },
     "output_type": "display_data"
    },
    {
     "name": "stdout",
     "output_type": "stream",
     "text": [
      "\n",
      "**************************************************\n",
      "\n",
      "STATE OF REGISTRATION\n",
      "\n"
     ]
    },
    {
     "data": {
      "text/plain": [
       "AB     13\n",
       "AK     26\n",
       "AL    167\n",
       "AR     70\n",
       "AZ    452\n",
       "     ... \n",
       "WV     83\n",
       "WY     12\n",
       "YT     23\n",
       "ZS      7\n",
       "pa      1\n",
       "Name: State of Registration, Length: 75, dtype: int64"
      ]
     },
     "metadata": {},
     "output_type": "display_data"
    },
    {
     "name": "stdout",
     "output_type": "stream",
     "text": [
      "None\n"
     ]
    },
    {
     "data": {
      "image/png": "[encoded data removed]",
      "text/plain": [
       "<Figure size 432x288 with 1 Axes>"
      ]
     },
     "metadata": {
      "needs_background": "light"
     },
     "output_type": "display_data"
    },
    {
     "name": "stdout",
     "output_type": "stream",
     "text": [
      "\n",
      "**************************************************\n",
      "\n",
      "NUMBER OF OCCUPANTS\n",
      "\n"
     ]
    },
    {
     "data": {
      "text/plain": [
       "0.0       27285\n",
       "1.0      358524\n",
       "2.0       84355\n",
       "3.0       23883\n",
       "4.0       10128\n",
       "          ...  \n",
       "90.0          2\n",
       "95.0          1\n",
       "100.0         3\n",
       "231.0         1\n",
       "881.0         1\n",
       "Name: Number of Occupants, Length: 67, dtype: int64"
      ]
     },
     "metadata": {},
     "output_type": "display_data"
    },
    {
     "name": "stdout",
     "output_type": "stream",
     "text": [
      "None\n"
     ]
    },
    {
     "data": {
      "image/png": "[encoded data removed]",
      "text/plain": [
       "<Figure size 432x288 with 1 Axes>"
      ]
     },
     "metadata": {
      "needs_background": "light"
     },
     "output_type": "display_data"
    },
    {
     "name": "stdout",
     "output_type": "stream",
     "text": [
      "\n",
      "**************************************************\n",
      "\n",
      "ENGINE CYLINDERS\n",
      "\n"
     ]
    },
    {
     "data": {
      "text/plain": [
       "0.0        788\n",
       "1.0        485\n",
       "2.0       2316\n",
       "3.0        408\n",
       "4.0     212481\n",
       "         ...  \n",
       "7.0          5\n",
       "8.0      55401\n",
       "9.0          5\n",
       "10.0       916\n",
       "12.0        46\n",
       "Name: Engine Cylinders, Length: 12, dtype: int64"
      ]
     },
     "metadata": {},
     "output_type": "display_data"
    },
    {
     "name": "stdout",
     "output_type": "stream",
     "text": [
      "None\n"
     ]
    },
    {
     "data": {
      "image/png": "[encoded data removed]",
      "text/plain": [
       "<Figure size 432x288 with 1 Axes>"
      ]
     },
     "metadata": {
      "needs_background": "light"
     },
     "output_type": "display_data"
    },
    {
     "name": "stdout",
     "output_type": "stream",
     "text": [
      "\n",
      "**************************************************\n",
      "\n",
      "VEHICLE MAKE\n",
      "\n"
     ]
    },
    {
     "data": {
      "text/plain": [
       "A          1\n",
       "AAA        1\n",
       "ABTR       8\n",
       "ACME       1\n",
       "ACUR     322\n",
       "        ... \n",
       "YORK       1\n",
       "ZHEJ       1\n",
       "ZHNG       1\n",
       "ZHONG      1\n",
       "ZNEN       3\n",
       "Name: Vehicle Make, Length: 1178, dtype: int64"
      ]
     },
     "metadata": {},
     "output_type": "display_data"
    },
    {
     "name": "stdout",
     "output_type": "stream",
     "text": [
      "None\n"
     ]
    },
    {
     "data": {
      "image/png": "[encoded data removed]",
      "text/plain": [
       "<Figure size 432x288 with 1 Axes>"
      ]
     },
     "metadata": {
      "needs_background": "light"
     },
     "output_type": "display_data"
    },
    {
     "name": "stdout",
     "output_type": "stream",
     "text": [
      "\n",
      "**************************************************\n",
      "\n",
      "CONTRIBUTING FACTOR 1\n",
      "\n"
     ]
    },
    {
     "data": {
      "text/plain": [
       "ENVMT       36941\n",
       "HUMAN      515690\n",
       "VEHICLE      7971\n",
       "Name: Contributing Factor 1, dtype: int64"
      ]
     },
     "metadata": {},
     "output_type": "display_data"
    },
    {
     "name": "stdout",
     "output_type": "stream",
     "text": [
      "None\n"
     ]
    },
    {
     "data": {
      "image/png": "[encoded data removed]",
      "text/plain": [
       "<Figure size 432x288 with 1 Axes>"
      ]
     },
     "metadata": {
      "needs_background": "light"
     },
     "output_type": "display_data"
    },
    {
     "name": "stdout",
     "output_type": "stream",
     "text": [
      "\n",
      "**************************************************\n",
      "\n",
      "CONTRIBUTING FACTOR 1 DESCRIPTION\n",
      "\n"
     ]
    },
    {
     "data": {
      "text/plain": [
       "Accelerator Defective                 216\n",
       "Aggressive Driving/Road Rage          921\n",
       "Alcohol Involvement                  6586\n",
       "Animal's Action                     22058\n",
       "Backing Unsafely                     9825\n",
       "                                    ...  \n",
       "Unsafe Lane Changing                 8809\n",
       "Unsafe Speed                        18640\n",
       "Using On Board Navigation Device       45\n",
       "View Obstructed/Limited              3012\n",
       "Windshield Inadequate                  13\n",
       "Name: Contributing Factor 1 Description, Length: 57, dtype: int64"
      ]
     },
     "metadata": {},
     "output_type": "display_data"
    },
    {
     "name": "stdout",
     "output_type": "stream",
     "text": [
      "None\n"
     ]
    },
    {
     "data": {
      "image/png": "[encoded data removed]",
      "text/plain": [
       "<Figure size 432x288 with 1 Axes>"
      ]
     },
     "metadata": {
      "needs_background": "light"
     },
     "output_type": "display_data"
    },
    {
     "name": "stdout",
     "output_type": "stream",
     "text": [
      "\n",
      "**************************************************\n",
      "\n",
      "CONTRIBUTING FACTOR 2\n",
      "\n"
     ]
    },
    {
     "data": {
      "text/plain": [
       "ENVMT       16314\n",
       "HUMAN      541328\n",
       "VEHICLE      2960\n",
       "Name: Contributing Factor 2, dtype: int64"
      ]
     },
     "metadata": {},
     "output_type": "display_data"
    },
    {
     "name": "stdout",
     "output_type": "stream",
     "text": [
      "None\n"
     ]
    },
    {
     "data": {
      "image/png": "[encoded data removed]",
      "text/plain": [
       "<Figure size 432x288 with 1 Axes>"
      ]
     },
     "metadata": {
      "needs_background": "light"
     },
     "output_type": "display_data"
    },
    {
     "name": "stdout",
     "output_type": "stream",
     "text": [
      "\n",
      "**************************************************\n",
      "\n",
      "CONTRIBUTING FACTOR 2 DESCRIPTION\n",
      "\n"
     ]
    },
    {
     "data": {
      "text/plain": [
       "Accelerator Defective                 62\n",
       "Aggressive Driving/Road Rage         752\n",
       "Alcohol Involvement                 1198\n",
       "Animal's Action                     1016\n",
       "Backing Unsafely                    1143\n",
       "                                    ... \n",
       "Unsafe Lane Changing                3786\n",
       "Unsafe Speed                        8794\n",
       "Using On Board Navigation Device      55\n",
       "View Obstructed/Limited             2436\n",
       "Windshield Inadequate                 17\n",
       "Name: Contributing Factor 2 Description, Length: 57, dtype: int64"
      ]
     },
     "metadata": {},
     "output_type": "display_data"
    },
    {
     "name": "stdout",
     "output_type": "stream",
     "text": [
      "None\n"
     ]
    },
    {
     "data": {
      "image/png": "[encoded data removed]",
      "text/plain": [
       "<Figure size 432x288 with 1 Axes>"
      ]
     },
     "metadata": {
      "needs_background": "light"
     },
     "output_type": "display_data"
    },
    {
     "name": "stdout",
     "output_type": "stream",
     "text": [
      "\n",
      "**************************************************\n",
      "\n",
      "EVENT TYPE\n",
      "\n"
     ]
    },
    {
     "data": {
      "text/plain": [
       "Animal, Collision With                             78\n",
       "Barrier, Collision With Fixed Object              530\n",
       "Bicyclist, Collision With                         765\n",
       "Bridge Structure, Collision With Fixed Object     118\n",
       "Building/Wall, Collision With Fixed Object        982\n",
       "                                                 ... \n",
       "Sign Post, Collision With Fixed Object           1490\n",
       "Snow Embankment, Collision With Fixed Object      279\n",
       "Submersion, Non-Collision                          52\n",
       "Tree, Collision With Fixed Object                3145\n",
       "Unknown                                          2266\n",
       "Name: Event Type, Length: 35, dtype: int64"
      ]
     },
     "metadata": {},
     "output_type": "display_data"
    },
    {
     "name": "stdout",
     "output_type": "stream",
     "text": [
      "None\n"
     ]
    },
    {
     "data": {
      "image/png": "[encoded data removed]",
      "text/plain": [
       "<Figure size 432x288 with 1 Axes>"
      ]
     },
     "metadata": {
      "needs_background": "light"
     },
     "output_type": "display_data"
    },
    {
     "name": "stdout",
     "output_type": "stream",
     "text": [
      "\n",
      "**************************************************\n",
      "\n",
      "PARTIAL VIN\n",
      "\n"
     ]
    },
    {
     "data": {
      "text/plain": [
       "0                    9\n",
       "0013T623508          1\n",
       "00867S100958         1\n",
       "023D9J564            1\n",
       "04C96771052519137    1\n",
       "                    ..\n",
       "ye2cc17b572047238    1\n",
       "ye2cc17b962047175    1\n",
       "ye2cc19b992046903    1\n",
       "ye2tc19b0c2044772    1\n",
       "ye2yc22b4e2041186    2\n",
       "Name: Partial VIN, Length: 446982, dtype: int64"
      ]
     },
     "metadata": {},
     "output_type": "display_data"
    },
    {
     "name": "stdout",
     "output_type": "stream",
     "text": [
      "None\n"
     ]
    },
    {
     "data": {
      "image/png": "[encoded data removed]",
      "text/plain": [
       "<Figure size 432x288 with 1 Axes>"
      ]
     },
     "metadata": {
      "needs_background": "light"
     },
     "output_type": "display_data"
    },
    {
     "name": "stdout",
     "output_type": "stream",
     "text": [
      "\n",
      "**************************************************\n",
      "\n"
     ]
    }
   ],
   "source": [
    "for i in veh.columns:\n",
    "    print(i.upper())\n",
    "    print()\n",
    "    print(view(veh[i].value_counts().sort_index(),5))\n",
    "    veh[i].value_counts().head(20).plot(kind='barh')\n",
    "    plt.show()\n",
    "    print()\n",
    "    print('*'*50)\n",
    "    print()"
   ]
  },
  {
   "cell_type": "markdown",
   "metadata": {},
   "source": [
    "## Preprocessing"
   ]
  },
  {
   "cell_type": "markdown",
   "metadata": {},
   "source": [
    "### Renaming Columns"
   ]
  },
  {
   "cell_type": "code",
   "execution_count": 7,
   "metadata": {},
   "outputs": [],
   "source": [
    "# Renaming the columns for easier handling\n",
    "\n",
    "veh.columns = ['year', \n",
    "               'veh_id', \n",
    "               'veh_type', \n",
    "               'registration_class', \n",
    "               'prior_action', \n",
    "               'axles', \n",
    "               'direction_travel', \n",
    "               'fuel', \n",
    "               'veh_year', \n",
    "               'registration_state', \n",
    "               'num_occupants', \n",
    "               'engine_cylinders', \n",
    "               'veh_make', \n",
    "               'contributor_1', \n",
    "               'contributor_description_1', \n",
    "               'contributor_2', \n",
    "               'contributor_description_2', \n",
    "               'event_type', \n",
    "               'vin']"
   ]
  },
  {
   "cell_type": "markdown",
   "metadata": {},
   "source": [
    "### Dropping Unnecessary Columns"
   ]
  },
  {
   "cell_type": "code",
   "execution_count": 8,
   "metadata": {
    "tags": [
     "setcleaning",
     "load/preview"
    ]
   },
   "outputs": [],
   "source": [
    "veh = veh.drop(columns=['year',\n",
    "                       'registration_class',\n",
    "                       'axles',\n",
    "                       'fuel',\n",
    "                       'registration_state',\n",
    "                       'contributor_description_1',\n",
    "                       'contributor_2',\n",
    "                       'contributor_description_2',\n",
    "                       'event_type',\n",
    "                       'vin'])"
   ]
  },
  {
   "cell_type": "markdown",
   "metadata": {},
   "source": [
    "### Checking Null Values\n",
    "\n",
    "There are quite a few in several of the columns. I am planning to trim down several columns, so I will see how that affects the null value count."
   ]
  },
  {
   "cell_type": "code",
   "execution_count": 9,
   "metadata": {
    "tags": [
     "setcleaning"
    ]
   },
   "outputs": [
    {
     "data": {
      "text/plain": [
       "veh_id                   0\n",
       "veh_type                 0\n",
       "prior_action             0\n",
       "direction_travel         0\n",
       "veh_year             87525\n",
       "num_occupants        49951\n",
       "engine_cylinders    118177\n",
       "veh_make             87006\n",
       "contributor_1            5\n",
       "dtype: int64"
      ]
     },
     "execution_count": 9,
     "metadata": {},
     "output_type": "execute_result"
    }
   ],
   "source": [
    "# Null values count\n",
    "\n",
    "veh.isna().sum()"
   ]
  },
  {
   "cell_type": "markdown",
   "metadata": {},
   "source": [
    "### Fixing Each Column"
   ]
  },
  {
   "cell_type": "markdown",
   "metadata": {},
   "source": [
    "#### Vehicle Year\n",
    "\n",
    "The vehicle involved in the crash is one of the main components I want to consider in my analysis. I will only look at cars that were produced in the year 2000 onward."
   ]
  },
  {
   "cell_type": "code",
   "execution_count": 10,
   "metadata": {},
   "outputs": [],
   "source": [
    "veh = veh[veh.veh_year >= 2000]"
   ]
  },
  {
   "cell_type": "markdown",
   "metadata": {},
   "source": [
    "What I really care about is the age of the car. Note that new car models are released as the following year. So I will convert the vehicle year column to vehicle age by subtracting from the year 2016, and add 1 to each difference to get the accurate age of the car."
   ]
  },
  {
   "cell_type": "code",
   "execution_count": 11,
   "metadata": {},
   "outputs": [],
   "source": [
    "veh[\"veh_age\"] = 2016 - veh.veh_year.astype(int) + 1"
   ]
  },
  {
   "cell_type": "code",
   "execution_count": 12,
   "metadata": {},
   "outputs": [],
   "source": [
    "# No longer need this column\n",
    "\n",
    "veh = veh.drop(columns=['veh_year'])"
   ]
  },
  {
   "cell_type": "markdown",
   "metadata": {},
   "source": [
    "#### Vehicle Make"
   ]
  },
  {
   "cell_type": "code",
   "execution_count": 13,
   "metadata": {},
   "outputs": [],
   "source": [
    "veh = veh[~veh.veh_make.isna()]"
   ]
  },
  {
   "cell_type": "code",
   "execution_count": 14,
   "metadata": {},
   "outputs": [
    {
     "data": {
      "text/plain": [
       "TOYOT    53703\n",
       "FORD     46642\n",
       "HONDA    46573\n",
       "CHEVR    42822\n",
       "NISSA    35464\n",
       "         ...  \n",
       "NEOP         1\n",
       "PINE         1\n",
       "AL/DE        1\n",
       "START        1\n",
       "DAIN         1\n",
       "Name: veh_make, Length: 1014, dtype: int64"
      ]
     },
     "metadata": {},
     "output_type": "display_data"
    }
   ],
   "source": [
    "view(veh.veh_make.value_counts(),5)"
   ]
  },
  {
   "cell_type": "code",
   "execution_count": 15,
   "metadata": {},
   "outputs": [],
   "source": [
    "def rename_maker_starts(original, rename):\n",
    "    veh.loc[veh.veh_make.str.startswith(original), 'veh_make'] = str(rename)\n",
    "    return"
   ]
  },
  {
   "cell_type": "code",
   "execution_count": 16,
   "metadata": {},
   "outputs": [],
   "source": [
    "def rename_maker(original, rename):\n",
    "    veh.loc[veh.veh_make.str.contains(original, case=False), 'veh_make'] = str(rename)\n",
    "    return"
   ]
  },
  {
   "cell_type": "code",
   "execution_count": 17,
   "metadata": {},
   "outputs": [],
   "source": [
    "rename_maker_starts(\"FR\",\"freightliner\")\n",
    "rename_maker_starts(\"LEX\",\"lexus\")\n",
    "rename_maker_starts(\"SUZ\",\"suzuki\")"
   ]
  },
  {
   "cell_type": "code",
   "execution_count": 18,
   "metadata": {},
   "outputs": [],
   "source": [
    "rename_maker(\"acur\",\"acura\")\n",
    "rename_maker(\"aud\",\"audi\")\n",
    "rename_maker(\"bmw\",\"bmw\")\n",
    "rename_maker(\"bui\",\"buick\")\n",
    "rename_maker(\"cadi\",\"cadillac\")\n",
    "rename_maker(\"chev\",\"chevrolet\")\n",
    "rename_maker(\"chr\",\"chrysler\")\n",
    "rename_maker(\"dod\",\"dodge\")\n",
    "rename_maker(\"ford\",\"ford\")\n",
    "rename_maker(\"gmc\",\"gmc\")\n",
    "rename_maker(\"hond\",\"honda\")\n",
    "rename_maker(\"ha/\",\"harley\")\n",
    "rename_maker(\"hyu\",\"hyundai\")\n",
    "rename_maker(\"inf\",\"infiniti\")\n",
    "rename_maker(\"int\",\"international\")\n",
    "rename_maker(\"isu\",\"isuzu\")\n",
    "rename_maker(\"jeep\",\"jeep\")\n",
    "rename_maker(\"kia\",\"kia\")\n",
    "rename_maker(\"la/\",\"landrover\")\n",
    "rename_maker(\"linc\",\"lincoln\")\n",
    "rename_maker(\"mac\",\"mack\")\n",
    "rename_maker(\"maz\",\"mazda\")\n",
    "rename_maker(\"mercu\",\"mercury\")\n",
    "rename_maker(\"merc|merz|me/\",\"mercedes\")\n",
    "rename_maker(\"mit\",\"mitsubishi\")\n",
    "rename_maker(\"niss\",\"nissan\")\n",
    "rename_maker(\"pon\",\"pontiac\")\n",
    "rename_maker(\"por\",\"porsche\")\n",
    "rename_maker(\"ram\",\"ram\")\n",
    "rename_maker(\"sat\",\"saturn\")\n",
    "rename_maker(\"suba\",\"subaru\")\n",
    "rename_maker(\"toy\",\"toyota\")\n",
    "rename_maker(\"volk\",\"volkswagen\")\n",
    "rename_maker(\"volv\",\"volvo\")"
   ]
  },
  {
   "cell_type": "code",
   "execution_count": 19,
   "metadata": {},
   "outputs": [
    {
     "data": {
      "text/plain": [
       "toyota       56409\n",
       "honda        48940\n",
       "ford         46651\n",
       "chevrolet    45514\n",
       "nissan       37504\n",
       "             ...  \n",
       "PROS             1\n",
       "WABA             1\n",
       "AMER             1\n",
       "TUSCA            1\n",
       "DAIN             1\n",
       "Name: veh_make, Length: 902, dtype: int64"
      ]
     },
     "metadata": {},
     "output_type": "display_data"
    }
   ],
   "source": [
    "view(veh.veh_make.value_counts(),5)"
   ]
  },
  {
   "cell_type": "code",
   "execution_count": 20,
   "metadata": {},
   "outputs": [
    {
     "name": "stdout",
     "output_type": "stream",
     "text": [
      "['toyota', 'honda', 'ford', 'chevrolet', 'nissan', 'hyundai', 'jeep', 'dodge', 'subaru', 'mercedes', 'kia', 'bmw', 'chrysler', 'volkswagen', 'gmc', 'lexus', 'acura', 'mazda', 'buick', 'infiniti', 'audi', 'pontiac', 'lincoln', 'mitsubishi', 'cadillac', 'volvo', 'saturn', 'freightliner', 'ram', 'suzuki', 'international', 'mack', 'landrover', 'harley']\n"
     ]
    }
   ],
   "source": [
    "# Keeping makers that have at least 1000 vehicles in this dataset\n",
    "\n",
    "makers_keep = list(veh.veh_make.value_counts()[:34].index)\n",
    "print(makers_keep)"
   ]
  },
  {
   "cell_type": "code",
   "execution_count": 21,
   "metadata": {},
   "outputs": [],
   "source": [
    "veh = veh[veh.veh_make.isin(makers_keep)]"
   ]
  },
  {
   "cell_type": "markdown",
   "metadata": {},
   "source": [
    "#### Vehicle Type"
   ]
  },
  {
   "cell_type": "code",
   "execution_count": 22,
   "metadata": {},
   "outputs": [
    {
     "data": {
      "text/plain": [
       "4 DOOR SEDAN              193806\n",
       "SUBURBAN                  166017\n",
       "PICKUP TRUCK               29767\n",
       "2 DOOR SEDAN               15706\n",
       "VAN TRUCK                   7672\n",
       "                           ...  \n",
       "SNOW TRAVELER                  1\n",
       "BICYCLIST                      1\n",
       "MOBILE CAR CRUSHER             1\n",
       "HEARSE - INVALID               1\n",
       "CONSTRUCTION EQUIPMENT         1\n",
       "Name: veh_type, Length: 55, dtype: int64"
      ]
     },
     "metadata": {},
     "output_type": "display_data"
    }
   ],
   "source": [
    "view(veh.veh_type.value_counts(),5)"
   ]
  },
  {
   "cell_type": "code",
   "execution_count": 23,
   "metadata": {},
   "outputs": [],
   "source": [
    "drop_types = [\"OTHER VEHICLE\", \n",
    "              \"UNKNOWN VEHICLE\", \n",
    "              \"CUSTOM\", \n",
    "              \"Not Entered\", \n",
    "              \"UNKNOWN CAR\", \n",
    "              \"PEDESTRIAN\", \n",
    "              \"WELL DRILLER\", \n",
    "              \"FEED PROCESSING MACHINE\", \n",
    "              \"SNOW TRAVELER\", \n",
    "              \"CONSTRUCTION EQUIPMENT\", \n",
    "              \"BICYCLIST\"]"
   ]
  },
  {
   "cell_type": "code",
   "execution_count": 24,
   "metadata": {},
   "outputs": [],
   "source": [
    "# Dropping the above types as they don't fit into the main vehicle type categories\n",
    "\n",
    "veh = veh[~veh.veh_type.isin(drop_types)]"
   ]
  },
  {
   "cell_type": "code",
   "execution_count": 25,
   "metadata": {},
   "outputs": [],
   "source": [
    "def rename_type(original, rename):\n",
    "    veh.loc[veh.veh_type.str.contains(original), 'veh_type'] = str(rename)\n",
    "    return"
   ]
  },
  {
   "cell_type": "code",
   "execution_count": 26,
   "metadata": {},
   "outputs": [],
   "source": [
    "bus_type = [\"BUS \\(OMNIBUS\\)\", \"LIMOUSINE \\(OMNIBUS\\)\"]\n",
    "\n",
    "motorcycle_type = [\"MOTORCYCLE\", \"MOPED\"]\n",
    "\n",
    "sedan_type = [\"CONVERTIBLE\", \"4 DOOR SEDAN\", \"2 DOOR SEDAN\", \"TAXI\", \"POLICE VEHICLE\", \"SEDAN\"]\n",
    "\n",
    "suburban_type = [\"SUBURBAN\", \"AMBULANCE\", \"HEARSE (AMBULANCE)\", \"HEARSE - INVALID\"]"
   ]
  },
  {
   "cell_type": "code",
   "execution_count": 27,
   "metadata": {},
   "outputs": [],
   "source": [
    "for t in bus_type:\n",
    "    rename_type(t,\"bus\")\n",
    "\n",
    "for t in motorcycle_type:\n",
    "    rename_type(t,\"motorcycle\")\n",
    "\n",
    "for t in sedan_type:\n",
    "    rename_type(t,\"sedan\")\n",
    "\n",
    "for t in suburban_type:\n",
    "    rename_type(t,\"suburban\")"
   ]
  },
  {
   "cell_type": "code",
   "execution_count": 28,
   "metadata": {},
   "outputs": [],
   "source": [
    "veh.veh_type = veh.veh_type.where(veh.veh_type.str.contains(\"bus|motorcycle|sedan|suburban\"), \"truck\")"
   ]
  },
  {
   "cell_type": "code",
   "execution_count": 29,
   "metadata": {},
   "outputs": [
    {
     "data": {
      "text/plain": [
       "sedan         215639\n",
       "suburban      166217\n",
       "truck          44917\n",
       "motorcycle      2146\n",
       "bus              914\n",
       "Name: veh_type, dtype: int64"
      ]
     },
     "execution_count": 29,
     "metadata": {},
     "output_type": "execute_result"
    }
   ],
   "source": [
    "veh.veh_type.value_counts()"
   ]
  },
  {
   "cell_type": "markdown",
   "metadata": {},
   "source": [
    "#### Number of Occupants"
   ]
  },
  {
   "cell_type": "code",
   "execution_count": 30,
   "metadata": {},
   "outputs": [
    {
     "data": {
      "text/plain": [
       "8809"
      ]
     },
     "execution_count": 30,
     "metadata": {},
     "output_type": "execute_result"
    }
   ],
   "source": [
    "veh.num_occupants.isna().sum()"
   ]
  },
  {
   "cell_type": "markdown",
   "metadata": {},
   "source": [
    "I will assume that vehicles that didn't specify a number of occupants had only the driver."
   ]
  },
  {
   "cell_type": "code",
   "execution_count": 31,
   "metadata": {},
   "outputs": [],
   "source": [
    "veh.num_occupants.fillna(1, inplace=True)"
   ]
  },
  {
   "cell_type": "markdown",
   "metadata": {},
   "source": [
    "#### Engine Cylinders"
   ]
  },
  {
   "cell_type": "code",
   "execution_count": 32,
   "metadata": {},
   "outputs": [
    {
     "data": {
      "text/plain": [
       "26366"
      ]
     },
     "execution_count": 32,
     "metadata": {},
     "output_type": "execute_result"
    }
   ],
   "source": [
    "veh.engine_cylinders.isna().sum()"
   ]
  },
  {
   "cell_type": "markdown",
   "metadata": {},
   "source": [
    "There are many null values in the engine cylinders column, encapsulating various vehicle types. There are also many values of 0 in the engine cylinders column, which can't be accurate. I will assign the number of cylinders that is typical of each car type."
   ]
  },
  {
   "cell_type": "code",
   "execution_count": 33,
   "metadata": {},
   "outputs": [],
   "source": [
    "veh.loc[veh.veh_type.str.contains(\"motorcycle\") & veh.engine_cylinders.isna(), 'engine_cylinders'] = 1\n",
    "veh.loc[veh.veh_type.str.contains(\"motorcycle\") & (veh.engine_cylinders == 0), 'engine_cylinders'] = 1"
   ]
  },
  {
   "cell_type": "code",
   "execution_count": 34,
   "metadata": {},
   "outputs": [],
   "source": [
    "veh.loc[veh.veh_type.str.contains(\"sedan\") & veh.engine_cylinders.isna(), 'engine_cylinders'] = 4\n",
    "veh.loc[veh.veh_type.str.contains(\"sedan\") & (veh.engine_cylinders == 0), 'engine_cylinders'] = 4"
   ]
  },
  {
   "cell_type": "code",
   "execution_count": 35,
   "metadata": {},
   "outputs": [],
   "source": [
    "veh.loc[veh.veh_type.str.contains(\"bus|suburban|truck\") & veh.engine_cylinders.isna(), 'engine_cylinders'] = 4\n",
    "veh.loc[veh.veh_type.str.contains(\"bus|suburban|truck\") & (veh.engine_cylinders == 0), 'engine_cylinders'] = 6"
   ]
  },
  {
   "cell_type": "markdown",
   "metadata": {},
   "source": [
    "#### Direction of Travel"
   ]
  },
  {
   "cell_type": "code",
   "execution_count": 36,
   "metadata": {},
   "outputs": [
    {
     "data": {
      "text/plain": [
       "East              93829\n",
       "West              90984\n",
       "North             90070\n",
       "South             88871\n",
       "Unknown           28473\n",
       "Northeast          9594\n",
       "Northwest          9340\n",
       "Southwest          9123\n",
       "Southeast          9121\n",
       "Not Applicable      428\n",
       "Name: direction_travel, dtype: int64"
      ]
     },
     "execution_count": 36,
     "metadata": {},
     "output_type": "execute_result"
    }
   ],
   "source": [
    "veh.direction_travel.value_counts()"
   ]
  },
  {
   "cell_type": "code",
   "execution_count": 37,
   "metadata": {},
   "outputs": [],
   "source": [
    "veh.loc[veh.direction_travel.str.contains(\"Not Applicable|Unknown\"), 'direction_travel'] = \"still\""
   ]
  },
  {
   "cell_type": "code",
   "execution_count": 38,
   "metadata": {},
   "outputs": [],
   "source": [
    "veh.direction_travel = veh.direction_travel.str.lower()"
   ]
  },
  {
   "cell_type": "markdown",
   "metadata": {},
   "source": [
    "#### Action Prior to Accident"
   ]
  },
  {
   "cell_type": "code",
   "execution_count": 39,
   "metadata": {},
   "outputs": [
    {
     "data": {
      "text/plain": [
       "Going Straight Ahead          211980\n",
       "Stopped in Traffic             39720\n",
       "Making Left Turn               35385\n",
       "Slowing or Stopping            34696\n",
       "Parked                         29834\n",
       "Unknown                        18139\n",
       "Making Right Turn              13904\n",
       "Backing                        12530\n",
       "Changing Lanes                  9755\n",
       "Starting in Traffic             6798\n",
       "Merging                         3328\n",
       "Overtaking/Passing              2718\n",
       "Starting from Parking           2680\n",
       "Other                           2325\n",
       "Making U Turn                   2139\n",
       "Entering Parked Position        1843\n",
       "Avoiding Object in Roadway      1412\n",
       "Not Applicable                   211\n",
       "Making Right Turn on Red         205\n",
       "Police Pursuit                   142\n",
       "Making Left Turn on Red           89\n",
       "Name: prior_action, dtype: int64"
      ]
     },
     "execution_count": 39,
     "metadata": {},
     "output_type": "execute_result"
    }
   ],
   "source": [
    "veh.prior_action.value_counts()"
   ]
  },
  {
   "cell_type": "code",
   "execution_count": 40,
   "metadata": {},
   "outputs": [
    {
     "data": {
      "text/html": [
       "<div>\n",
       "<style scoped>\n",
       "    .dataframe tbody tr th:only-of-type {\n",
       "        vertical-align: middle;\n",
       "    }\n",
       "\n",
       "    .dataframe tbody tr th {\n",
       "        vertical-align: top;\n",
       "    }\n",
       "\n",
       "    .dataframe thead th {\n",
       "        text-align: right;\n",
       "    }\n",
       "</style>\n",
       "<table border=\"1\" class=\"dataframe\">\n",
       "  <thead>\n",
       "    <tr style=\"text-align: right;\">\n",
       "      <th></th>\n",
       "      <th>veh_id</th>\n",
       "      <th>veh_type</th>\n",
       "      <th>prior_action</th>\n",
       "      <th>direction_travel</th>\n",
       "      <th>num_occupants</th>\n",
       "      <th>engine_cylinders</th>\n",
       "      <th>veh_make</th>\n",
       "      <th>contributor_1</th>\n",
       "      <th>veh_age</th>\n",
       "    </tr>\n",
       "  </thead>\n",
       "  <tbody>\n",
       "    <tr>\n",
       "      <th>45</th>\n",
       "      <td>13364777</td>\n",
       "      <td>sedan</td>\n",
       "      <td>Unknown</td>\n",
       "      <td>south</td>\n",
       "      <td>1.0</td>\n",
       "      <td>4.0</td>\n",
       "      <td>nissan</td>\n",
       "      <td>HUMAN</td>\n",
       "      <td>11</td>\n",
       "    </tr>\n",
       "    <tr>\n",
       "      <th>602</th>\n",
       "      <td>13369470</td>\n",
       "      <td>suburban</td>\n",
       "      <td>Other</td>\n",
       "      <td>west</td>\n",
       "      <td>2.0</td>\n",
       "      <td>4.0</td>\n",
       "      <td>toyota</td>\n",
       "      <td>HUMAN</td>\n",
       "      <td>7</td>\n",
       "    </tr>\n",
       "    <tr>\n",
       "      <th>699</th>\n",
       "      <td>13369814</td>\n",
       "      <td>sedan</td>\n",
       "      <td>Not Applicable</td>\n",
       "      <td>west</td>\n",
       "      <td>1.0</td>\n",
       "      <td>4.0</td>\n",
       "      <td>kia</td>\n",
       "      <td>HUMAN</td>\n",
       "      <td>2</td>\n",
       "    </tr>\n",
       "    <tr>\n",
       "      <th>...</th>\n",
       "      <td>...</td>\n",
       "      <td>...</td>\n",
       "      <td>...</td>\n",
       "      <td>...</td>\n",
       "      <td>...</td>\n",
       "      <td>...</td>\n",
       "      <td>...</td>\n",
       "      <td>...</td>\n",
       "      <td>...</td>\n",
       "    </tr>\n",
       "    <tr>\n",
       "      <th>560567</th>\n",
       "      <td>14838368</td>\n",
       "      <td>sedan</td>\n",
       "      <td>Unknown</td>\n",
       "      <td>still</td>\n",
       "      <td>1.0</td>\n",
       "      <td>4.0</td>\n",
       "      <td>kia</td>\n",
       "      <td>HUMAN</td>\n",
       "      <td>2</td>\n",
       "    </tr>\n",
       "    <tr>\n",
       "      <th>560578</th>\n",
       "      <td>14845809</td>\n",
       "      <td>truck</td>\n",
       "      <td>Unknown</td>\n",
       "      <td>still</td>\n",
       "      <td>2.0</td>\n",
       "      <td>8.0</td>\n",
       "      <td>dodge</td>\n",
       "      <td>HUMAN</td>\n",
       "      <td>7</td>\n",
       "    </tr>\n",
       "    <tr>\n",
       "      <th>560601</th>\n",
       "      <td>14866399</td>\n",
       "      <td>sedan</td>\n",
       "      <td>Unknown</td>\n",
       "      <td>still</td>\n",
       "      <td>2.0</td>\n",
       "      <td>5.0</td>\n",
       "      <td>volkswagen</td>\n",
       "      <td>HUMAN</td>\n",
       "      <td>3</td>\n",
       "    </tr>\n",
       "  </tbody>\n",
       "</table>\n",
       "<p>20675 rows × 9 columns</p>\n",
       "</div>"
      ],
      "text/plain": [
       "          veh_id  veh_type    prior_action direction_travel  num_occupants  \\\n",
       "45      13364777     sedan         Unknown            south            1.0   \n",
       "602     13369470  suburban           Other             west            2.0   \n",
       "699     13369814     sedan  Not Applicable             west            1.0   \n",
       "...          ...       ...             ...              ...            ...   \n",
       "560567  14838368     sedan         Unknown            still            1.0   \n",
       "560578  14845809     truck         Unknown            still            2.0   \n",
       "560601  14866399     sedan         Unknown            still            2.0   \n",
       "\n",
       "        engine_cylinders    veh_make contributor_1  veh_age  \n",
       "45                   4.0      nissan         HUMAN       11  \n",
       "602                  4.0      toyota         HUMAN        7  \n",
       "699                  4.0         kia         HUMAN        2  \n",
       "...                  ...         ...           ...      ...  \n",
       "560567               4.0         kia         HUMAN        2  \n",
       "560578               8.0       dodge         HUMAN        7  \n",
       "560601               5.0  volkswagen         HUMAN        3  \n",
       "\n",
       "[20675 rows x 9 columns]"
      ]
     },
     "metadata": {},
     "output_type": "display_data"
    }
   ],
   "source": [
    "view(veh[veh.prior_action.str.contains(\"Unknown|Other|Not Applicable\")],3)"
   ]
  },
  {
   "cell_type": "code",
   "execution_count": 41,
   "metadata": {},
   "outputs": [],
   "source": [
    "veh.loc[veh.prior_action.str.contains(\"Unknown|Other|Not Applicable\"), 'prior_action'] = \"Unknown\""
   ]
  },
  {
   "cell_type": "code",
   "execution_count": 42,
   "metadata": {},
   "outputs": [],
   "source": [
    "veh.prior_action = veh.prior_action.str.lower() \\\n",
    "    .str.replace(\" \",\"\") \\\n",
    "    .str.replace(\"overtaking/passing\",\"passing\") \\\n",
    "    .str.replace(\"making\",\"\")"
   ]
  },
  {
   "cell_type": "markdown",
   "metadata": {},
   "source": [
    "#### Contributor"
   ]
  },
  {
   "cell_type": "code",
   "execution_count": 43,
   "metadata": {},
   "outputs": [],
   "source": [
    "veh.rename(columns={'contributor_1':'cause'}, inplace=True)"
   ]
  },
  {
   "cell_type": "code",
   "execution_count": 44,
   "metadata": {},
   "outputs": [],
   "source": [
    "veh.cause = veh.cause.str.lower()"
   ]
  },
  {
   "cell_type": "markdown",
   "metadata": {},
   "source": [
    "## Checking"
   ]
  },
  {
   "cell_type": "markdown",
   "metadata": {},
   "source": [
    "#### Preview"
   ]
  },
  {
   "cell_type": "code",
   "execution_count": 45,
   "metadata": {},
   "outputs": [
    {
     "data": {
      "text/html": [
       "<div>\n",
       "<style scoped>\n",
       "    .dataframe tbody tr th:only-of-type {\n",
       "        vertical-align: middle;\n",
       "    }\n",
       "\n",
       "    .dataframe tbody tr th {\n",
       "        vertical-align: top;\n",
       "    }\n",
       "\n",
       "    .dataframe thead th {\n",
       "        text-align: right;\n",
       "    }\n",
       "</style>\n",
       "<table border=\"1\" class=\"dataframe\">\n",
       "  <thead>\n",
       "    <tr style=\"text-align: right;\">\n",
       "      <th></th>\n",
       "      <th>veh_id</th>\n",
       "      <th>veh_type</th>\n",
       "      <th>prior_action</th>\n",
       "      <th>direction_travel</th>\n",
       "      <th>num_occupants</th>\n",
       "      <th>engine_cylinders</th>\n",
       "      <th>veh_make</th>\n",
       "      <th>cause</th>\n",
       "      <th>veh_age</th>\n",
       "    </tr>\n",
       "  </thead>\n",
       "  <tbody>\n",
       "    <tr>\n",
       "      <th>0</th>\n",
       "      <td>13364180</td>\n",
       "      <td>suburban</td>\n",
       "      <td>goingstraightahead</td>\n",
       "      <td>east</td>\n",
       "      <td>2.0</td>\n",
       "      <td>4.0</td>\n",
       "      <td>nissan</td>\n",
       "      <td>human</td>\n",
       "      <td>2</td>\n",
       "    </tr>\n",
       "    <tr>\n",
       "      <th>1</th>\n",
       "      <td>13364181</td>\n",
       "      <td>sedan</td>\n",
       "      <td>merging</td>\n",
       "      <td>south</td>\n",
       "      <td>1.0</td>\n",
       "      <td>4.0</td>\n",
       "      <td>hyundai</td>\n",
       "      <td>human</td>\n",
       "      <td>10</td>\n",
       "    </tr>\n",
       "    <tr>\n",
       "      <th>2</th>\n",
       "      <td>13364182</td>\n",
       "      <td>sedan</td>\n",
       "      <td>goingstraightahead</td>\n",
       "      <td>south</td>\n",
       "      <td>1.0</td>\n",
       "      <td>4.0</td>\n",
       "      <td>honda</td>\n",
       "      <td>human</td>\n",
       "      <td>8</td>\n",
       "    </tr>\n",
       "    <tr>\n",
       "      <th>...</th>\n",
       "      <td>...</td>\n",
       "      <td>...</td>\n",
       "      <td>...</td>\n",
       "      <td>...</td>\n",
       "      <td>...</td>\n",
       "      <td>...</td>\n",
       "      <td>...</td>\n",
       "      <td>...</td>\n",
       "      <td>...</td>\n",
       "    </tr>\n",
       "    <tr>\n",
       "      <th>560602</th>\n",
       "      <td>14867087</td>\n",
       "      <td>sedan</td>\n",
       "      <td>parked</td>\n",
       "      <td>still</td>\n",
       "      <td>0.0</td>\n",
       "      <td>6.0</td>\n",
       "      <td>chrysler</td>\n",
       "      <td>human</td>\n",
       "      <td>10</td>\n",
       "    </tr>\n",
       "    <tr>\n",
       "      <th>560603</th>\n",
       "      <td>14867164</td>\n",
       "      <td>sedan</td>\n",
       "      <td>goingstraightahead</td>\n",
       "      <td>south</td>\n",
       "      <td>1.0</td>\n",
       "      <td>4.0</td>\n",
       "      <td>honda</td>\n",
       "      <td>human</td>\n",
       "      <td>9</td>\n",
       "    </tr>\n",
       "    <tr>\n",
       "      <th>560604</th>\n",
       "      <td>14867165</td>\n",
       "      <td>suburban</td>\n",
       "      <td>stoppedintraffic</td>\n",
       "      <td>south</td>\n",
       "      <td>2.0</td>\n",
       "      <td>4.0</td>\n",
       "      <td>ford</td>\n",
       "      <td>human</td>\n",
       "      <td>3</td>\n",
       "    </tr>\n",
       "  </tbody>\n",
       "</table>\n",
       "<p>429833 rows × 9 columns</p>\n",
       "</div>"
      ],
      "text/plain": [
       "          veh_id  veh_type        prior_action direction_travel  \\\n",
       "0       13364180  suburban  goingstraightahead             east   \n",
       "1       13364181     sedan             merging            south   \n",
       "2       13364182     sedan  goingstraightahead            south   \n",
       "...          ...       ...                 ...              ...   \n",
       "560602  14867087     sedan              parked            still   \n",
       "560603  14867164     sedan  goingstraightahead            south   \n",
       "560604  14867165  suburban    stoppedintraffic            south   \n",
       "\n",
       "        num_occupants  engine_cylinders  veh_make  cause  veh_age  \n",
       "0                 2.0               4.0    nissan  human        2  \n",
       "1                 1.0               4.0   hyundai  human       10  \n",
       "2                 1.0               4.0     honda  human        8  \n",
       "...               ...               ...       ...    ...      ...  \n",
       "560602            0.0               6.0  chrysler  human       10  \n",
       "560603            1.0               4.0     honda  human        9  \n",
       "560604            2.0               4.0      ford  human        3  \n",
       "\n",
       "[429833 rows x 9 columns]"
      ]
     },
     "metadata": {},
     "output_type": "display_data"
    }
   ],
   "source": [
    "view(veh,3)"
   ]
  },
  {
   "cell_type": "markdown",
   "metadata": {},
   "source": [
    "#### Info"
   ]
  },
  {
   "cell_type": "code",
   "execution_count": 46,
   "metadata": {
    "tags": [
     "load/preview"
    ]
   },
   "outputs": [
    {
     "name": "stdout",
     "output_type": "stream",
     "text": [
      "<class 'pandas.core.frame.DataFrame'>\n",
      "Int64Index: 429833 entries, 0 to 560604\n",
      "Data columns (total 9 columns):\n",
      "veh_id              429833 non-null int64\n",
      "veh_type            429833 non-null object\n",
      "prior_action        429833 non-null object\n",
      "direction_travel    429833 non-null object\n",
      "num_occupants       429833 non-null float64\n",
      "engine_cylinders    429833 non-null float64\n",
      "veh_make            429833 non-null object\n",
      "cause               429833 non-null object\n",
      "veh_age             429833 non-null int64\n",
      "dtypes: float64(2), int64(2), object(5)\n",
      "memory usage: 32.8+ MB\n"
     ]
    }
   ],
   "source": [
    "veh.info()"
   ]
  },
  {
   "cell_type": "markdown",
   "metadata": {},
   "source": [
    "#### Describe"
   ]
  },
  {
   "cell_type": "code",
   "execution_count": 47,
   "metadata": {
    "tags": [
     "load/preview"
    ]
   },
   "outputs": [
    {
     "data": {
      "text/html": [
       "<div>\n",
       "<style scoped>\n",
       "    .dataframe tbody tr th:only-of-type {\n",
       "        vertical-align: middle;\n",
       "    }\n",
       "\n",
       "    .dataframe tbody tr th {\n",
       "        vertical-align: top;\n",
       "    }\n",
       "\n",
       "    .dataframe thead th {\n",
       "        text-align: right;\n",
       "    }\n",
       "</style>\n",
       "<table border=\"1\" class=\"dataframe\">\n",
       "  <thead>\n",
       "    <tr style=\"text-align: right;\">\n",
       "      <th></th>\n",
       "      <th>veh_id</th>\n",
       "      <th>num_occupants</th>\n",
       "      <th>engine_cylinders</th>\n",
       "      <th>veh_age</th>\n",
       "    </tr>\n",
       "  </thead>\n",
       "  <tbody>\n",
       "    <tr>\n",
       "      <th>count</th>\n",
       "      <td>4.298330e+05</td>\n",
       "      <td>429833.000000</td>\n",
       "      <td>429833.000000</td>\n",
       "      <td>429833.000000</td>\n",
       "    </tr>\n",
       "    <tr>\n",
       "      <th>mean</th>\n",
       "      <td>1.387070e+07</td>\n",
       "      <td>1.322079</td>\n",
       "      <td>5.155874</td>\n",
       "      <td>7.429011</td>\n",
       "    </tr>\n",
       "    <tr>\n",
       "      <th>std</th>\n",
       "      <td>2.676558e+05</td>\n",
       "      <td>1.688443</td>\n",
       "      <td>1.394844</td>\n",
       "      <td>4.705934</td>\n",
       "    </tr>\n",
       "    <tr>\n",
       "      <th>min</th>\n",
       "      <td>1.336418e+07</td>\n",
       "      <td>0.000000</td>\n",
       "      <td>1.000000</td>\n",
       "      <td>0.000000</td>\n",
       "    </tr>\n",
       "    <tr>\n",
       "      <th>25%</th>\n",
       "      <td>1.364957e+07</td>\n",
       "      <td>1.000000</td>\n",
       "      <td>4.000000</td>\n",
       "      <td>3.000000</td>\n",
       "    </tr>\n",
       "    <tr>\n",
       "      <th>50%</th>\n",
       "      <td>1.387274e+07</td>\n",
       "      <td>1.000000</td>\n",
       "      <td>4.000000</td>\n",
       "      <td>7.000000</td>\n",
       "    </tr>\n",
       "    <tr>\n",
       "      <th>75%</th>\n",
       "      <td>1.409708e+07</td>\n",
       "      <td>1.000000</td>\n",
       "      <td>6.000000</td>\n",
       "      <td>11.000000</td>\n",
       "    </tr>\n",
       "    <tr>\n",
       "      <th>max</th>\n",
       "      <td>1.486716e+07</td>\n",
       "      <td>881.000000</td>\n",
       "      <td>12.000000</td>\n",
       "      <td>17.000000</td>\n",
       "    </tr>\n",
       "  </tbody>\n",
       "</table>\n",
       "</div>"
      ],
      "text/plain": [
       "             veh_id  num_occupants  engine_cylinders        veh_age\n",
       "count  4.298330e+05  429833.000000     429833.000000  429833.000000\n",
       "mean   1.387070e+07       1.322079          5.155874       7.429011\n",
       "std    2.676558e+05       1.688443          1.394844       4.705934\n",
       "min    1.336418e+07       0.000000          1.000000       0.000000\n",
       "25%    1.364957e+07       1.000000          4.000000       3.000000\n",
       "50%    1.387274e+07       1.000000          4.000000       7.000000\n",
       "75%    1.409708e+07       1.000000          6.000000      11.000000\n",
       "max    1.486716e+07     881.000000         12.000000      17.000000"
      ]
     },
     "execution_count": 47,
     "metadata": {},
     "output_type": "execute_result"
    }
   ],
   "source": [
    "veh.describe()"
   ]
  },
  {
   "cell_type": "markdown",
   "metadata": {},
   "source": [
    "#### Checking for Null Values"
   ]
  },
  {
   "cell_type": "code",
   "execution_count": 48,
   "metadata": {},
   "outputs": [
    {
     "data": {
      "text/plain": [
       "veh_id              0\n",
       "veh_type            0\n",
       "prior_action        0\n",
       "direction_travel    0\n",
       "num_occupants       0\n",
       "engine_cylinders    0\n",
       "veh_make            0\n",
       "cause               0\n",
       "veh_age             0\n",
       "dtype: int64"
      ]
     },
     "execution_count": 48,
     "metadata": {},
     "output_type": "execute_result"
    }
   ],
   "source": [
    "# Null values count\n",
    "\n",
    "veh.isna().sum()"
   ]
  },
  {
   "cell_type": "markdown",
   "metadata": {},
   "source": [
    "#### Number of Unique Values"
   ]
  },
  {
   "cell_type": "code",
   "execution_count": 49,
   "metadata": {},
   "outputs": [
    {
     "data": {
      "text/plain": [
       "['veh_id: 429833',\n",
       " 'veh_type: 5',\n",
       " 'prior_action: 19',\n",
       " 'direction_travel: 9',\n",
       " 'num_occupants: 43',\n",
       " 'engine_cylinders: 11',\n",
       " 'veh_make: 34',\n",
       " 'cause: 3',\n",
       " 'veh_age: 18']"
      ]
     },
     "execution_count": 49,
     "metadata": {},
     "output_type": "execute_result"
    }
   ],
   "source": [
    "[f'{c}: {veh[c].nunique()}' for c in veh.columns]"
   ]
  },
  {
   "cell_type": "markdown",
   "metadata": {},
   "source": [
    "#### Column Values"
   ]
  },
  {
   "cell_type": "code",
   "execution_count": 50,
   "metadata": {},
   "outputs": [
    {
     "name": "stdout",
     "output_type": "stream",
     "text": [
      "VEH_ID\n",
      "\n"
     ]
    },
    {
     "data": {
      "text/plain": [
       "13364180    1\n",
       "13364181    1\n",
       "13364182    1\n",
       "13364283    1\n",
       "13364292    1\n",
       "           ..\n",
       "14866236    1\n",
       "14866399    1\n",
       "14867087    1\n",
       "14867164    1\n",
       "14867165    1\n",
       "Name: veh_id, Length: 429833, dtype: int64"
      ]
     },
     "metadata": {},
     "output_type": "display_data"
    },
    {
     "name": "stdout",
     "output_type": "stream",
     "text": [
      "None\n"
     ]
    },
    {
     "data": {
      "image/png": "[encoded data removed]",
      "text/plain": [
       "<Figure size 432x288 with 1 Axes>"
      ]
     },
     "metadata": {
      "needs_background": "light"
     },
     "output_type": "display_data"
    },
    {
     "name": "stdout",
     "output_type": "stream",
     "text": [
      "\n",
      "**************************************************\n",
      "\n",
      "VEH_TYPE\n",
      "\n"
     ]
    },
    {
     "data": {
      "text/plain": [
       "bus              914\n",
       "motorcycle      2146\n",
       "sedan         215639\n",
       "suburban      166217\n",
       "truck          44917\n",
       "Name: veh_type, dtype: int64"
      ]
     },
     "metadata": {},
     "output_type": "display_data"
    },
    {
     "name": "stdout",
     "output_type": "stream",
     "text": [
      "None\n"
     ]
    },
    {
     "data": {
      "image/png": "[encoded data removed]",
      "text/plain": [
       "<Figure size 432x288 with 1 Axes>"
      ]
     },
     "metadata": {
      "needs_background": "light"
     },
     "output_type": "display_data"
    },
    {
     "name": "stdout",
     "output_type": "stream",
     "text": [
      "\n",
      "**************************************************\n",
      "\n",
      "PRIOR_ACTION\n",
      "\n"
     ]
    },
    {
     "data": {
      "text/plain": [
       "avoidingobjectinroadway      1412\n",
       "backing                     12530\n",
       "changinglanes                9755\n",
       "enteringparkedposition       1843\n",
       "goingstraightahead         211980\n",
       "                            ...  \n",
       "startingfromparking          2680\n",
       "startingintraffic            6798\n",
       "stoppedintraffic            39720\n",
       "unknown                     20675\n",
       "uturn                        2139\n",
       "Name: prior_action, Length: 19, dtype: int64"
      ]
     },
     "metadata": {},
     "output_type": "display_data"
    },
    {
     "name": "stdout",
     "output_type": "stream",
     "text": [
      "None\n"
     ]
    },
    {
     "data": {
      "image/png": "[encoded data removed]",
      "text/plain": [
       "<Figure size 432x288 with 1 Axes>"
      ]
     },
     "metadata": {
      "needs_background": "light"
     },
     "output_type": "display_data"
    },
    {
     "name": "stdout",
     "output_type": "stream",
     "text": [
      "\n",
      "**************************************************\n",
      "\n",
      "DIRECTION_TRAVEL\n",
      "\n"
     ]
    },
    {
     "data": {
      "text/plain": [
       "east         93829\n",
       "north        90070\n",
       "northeast     9594\n",
       "northwest     9340\n",
       "south        88871\n",
       "southeast     9121\n",
       "southwest     9123\n",
       "still        28901\n",
       "west         90984\n",
       "Name: direction_travel, dtype: int64"
      ]
     },
     "metadata": {},
     "output_type": "display_data"
    },
    {
     "name": "stdout",
     "output_type": "stream",
     "text": [
      "None\n"
     ]
    },
    {
     "data": {
      "image/png": "[encoded data removed]",
      "text/plain": [
       "<Figure size 432x288 with 1 Axes>"
      ]
     },
     "metadata": {
      "needs_background": "light"
     },
     "output_type": "display_data"
    },
    {
     "name": "stdout",
     "output_type": "stream",
     "text": [
      "\n",
      "**************************************************\n",
      "\n",
      "NUM_OCCUPANTS\n",
      "\n"
     ]
    },
    {
     "data": {
      "text/plain": [
       "0.0       22364\n",
       "1.0      303827\n",
       "2.0       70506\n",
       "3.0       20038\n",
       "4.0        8472\n",
       "          ...  \n",
       "57.0          1\n",
       "95.0          1\n",
       "100.0         2\n",
       "231.0         1\n",
       "881.0         1\n",
       "Name: num_occupants, Length: 43, dtype: int64"
      ]
     },
     "metadata": {},
     "output_type": "display_data"
    },
    {
     "name": "stdout",
     "output_type": "stream",
     "text": [
      "None\n"
     ]
    },
    {
     "data": {
      "image/png": "[encoded data removed]",
      "text/plain": [
       "<Figure size 432x288 with 1 Axes>"
      ]
     },
     "metadata": {
      "needs_background": "light"
     },
     "output_type": "display_data"
    },
    {
     "name": "stdout",
     "output_type": "stream",
     "text": [
      "\n",
      "**************************************************\n",
      "\n",
      "ENGINE_CYLINDERS\n",
      "\n"
     ]
    },
    {
     "data": {
      "text/plain": [
       "1.0        263\n",
       "2.0       1334\n",
       "3.0        150\n",
       "4.0     225674\n",
       "5.0       4244\n",
       "         ...  \n",
       "7.0          4\n",
       "8.0      48319\n",
       "9.0          4\n",
       "10.0       776\n",
       "12.0        17\n",
       "Name: engine_cylinders, Length: 11, dtype: int64"
      ]
     },
     "metadata": {},
     "output_type": "display_data"
    },
    {
     "name": "stdout",
     "output_type": "stream",
     "text": [
      "None\n"
     ]
    },
    {
     "data": {
      "image/png": "[encoded data removed]",
      "text/plain": [
       "<Figure size 432x288 with 1 Axes>"
      ]
     },
     "metadata": {
      "needs_background": "light"
     },
     "output_type": "display_data"
    },
    {
     "name": "stdout",
     "output_type": "stream",
     "text": [
      "\n",
      "**************************************************\n",
      "\n",
      "VEH_MAKE\n",
      "\n"
     ]
    },
    {
     "data": {
      "text/plain": [
       "acura          6484\n",
       "audi           4270\n",
       "bmw            9424\n",
       "buick          4959\n",
       "cadillac       3733\n",
       "              ...  \n",
       "subaru        13039\n",
       "suzuki         1915\n",
       "toyota        56390\n",
       "volkswagen     9144\n",
       "volvo          3234\n",
       "Name: veh_make, Length: 34, dtype: int64"
      ]
     },
     "metadata": {},
     "output_type": "display_data"
    },
    {
     "name": "stdout",
     "output_type": "stream",
     "text": [
      "None\n"
     ]
    },
    {
     "data": {
      "image/png": "[encoded data removed]",
      "text/plain": [
       "<Figure size 432x288 with 1 Axes>"
      ]
     },
     "metadata": {
      "needs_background": "light"
     },
     "output_type": "display_data"
    },
    {
     "name": "stdout",
     "output_type": "stream",
     "text": [
      "\n",
      "**************************************************\n",
      "\n",
      "CAUSE\n",
      "\n"
     ]
    },
    {
     "data": {
      "text/plain": [
       "envmt       33307\n",
       "human      390835\n",
       "vehicle      5691\n",
       "Name: cause, dtype: int64"
      ]
     },
     "metadata": {},
     "output_type": "display_data"
    },
    {
     "name": "stdout",
     "output_type": "stream",
     "text": [
      "None\n"
     ]
    },
    {
     "data": {
      "image/png": "[encoded data removed]",
      "text/plain": [
       "<Figure size 432x288 with 1 Axes>"
      ]
     },
     "metadata": {
      "needs_background": "light"
     },
     "output_type": "display_data"
    },
    {
     "name": "stdout",
     "output_type": "stream",
     "text": [
      "\n",
      "**************************************************\n",
      "\n",
      "VEH_AGE\n",
      "\n"
     ]
    },
    {
     "data": {
      "text/plain": [
       "0      2292\n",
       "1     31305\n",
       "2     47074\n",
       "3     39556\n",
       "4     33363\n",
       "      ...  \n",
       "13    21240\n",
       "14    19041\n",
       "15    16073\n",
       "16    12107\n",
       "17    10856\n",
       "Name: veh_age, Length: 18, dtype: int64"
      ]
     },
     "metadata": {},
     "output_type": "display_data"
    },
    {
     "name": "stdout",
     "output_type": "stream",
     "text": [
      "None\n"
     ]
    },
    {
     "data": {
      "image/png": "[encoded data removed]",
      "text/plain": [
       "<Figure size 432x288 with 1 Axes>"
      ]
     },
     "metadata": {
      "needs_background": "light"
     },
     "output_type": "display_data"
    },
    {
     "name": "stdout",
     "output_type": "stream",
     "text": [
      "\n",
      "**************************************************\n",
      "\n"
     ]
    }
   ],
   "source": [
    "for i in veh.columns:\n",
    "    print(i.upper())\n",
    "    print()\n",
    "    print(view(veh[i].value_counts().sort_index(),5))\n",
    "    veh[i].value_counts().head(20).plot(kind='barh')\n",
    "    plt.show()\n",
    "    print()\n",
    "    print('*'*50)\n",
    "    print()"
   ]
  },
  {
   "cell_type": "markdown",
   "metadata": {},
   "source": [
    "## Exporting Dataframe"
   ]
  },
  {
   "cell_type": "code",
   "execution_count": 51,
   "metadata": {},
   "outputs": [],
   "source": [
    "veh.to_csv(r'vehicles.csv')"
   ]
  },
  {
   "cell_type": "code",
   "execution_count": null,
   "metadata": {},
   "outputs": [],
   "source": []
  }
 ],
 "metadata": {
  "kernelspec": {
   "display_name": "learn-env",
   "language": "python",
   "name": "learn-env"
  },
  "language_info": {
   "codemirror_mode": {
    "name": "ipython",
    "version": 3
   },
   "file_extension": ".py",
   "mimetype": "text/x-python",
   "name": "python",
   "nbconvert_exporter": "python",
   "pygments_lexer": "ipython3",
   "version": "3.7.3"
  },
  "toc": {
   "base_numbering": 1,
   "nav_menu": {},
   "number_sections": false,
   "sideBar": true,
   "skip_h1_title": false,
   "title_cell": "Table of Contents",
   "title_sidebar": "Contents",
   "toc_cell": false,
   "toc_position": {},
   "toc_section_display": true,
   "toc_window_display": true
  },
  "toc-showtags": false,
  "varInspector": {
   "cols": {
    "lenName": 16,
    "lenType": 16,
    "lenVar": 40
   },
   "kernels_config": {
    "python": {
     "delete_cmd_postfix": "",
     "delete_cmd_prefix": "del ",
     "library": "var_list.py",
     "varRefreshCmd": "print(var_dic_list())"
    },
    "r": {
     "delete_cmd_postfix": ") ",
     "delete_cmd_prefix": "rm(",
     "library": "var_list.r",
     "varRefreshCmd": "cat(var_dic_list()) "
    }
   },
   "types_to_exclude": [
    "module",
    "function",
    "builtin_function_or_method",
    "instance",
    "_Feature"
   ],
   "window_display": false
  }
 },
 "nbformat": 4,
 "nbformat_minor": 2
}
